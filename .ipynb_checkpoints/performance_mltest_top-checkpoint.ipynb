{
 "cells": [
  {
   "cell_type": "code",
   "execution_count": 2,
   "metadata": {},
   "outputs": [],
   "source": [
    "import matplotlib.pyplot as plt\n",
    "import pandas as pd\n",
    "import seaborn as sns\n",
    "import numpy as np\n",
    "%matplotlib inline"
   ]
  },
  {
   "cell_type": "code",
   "execution_count": 3,
   "metadata": {},
   "outputs": [],
   "source": [
    "manager_data = pd.read_csv('https://raw.githubusercontent.com/keithmcnulty/ebp_exercise/master/data.csv', index_col = 'employee_id')"
   ]
  },
  {
   "cell_type": "code",
   "execution_count": 8,
   "metadata": {},
   "outputs": [
    {
     "name": "stdout",
     "output_type": "stream",
     "text": [
      "<class 'pandas.core.frame.DataFrame'>\n",
      "Index: 571 entries, c4578853 to e81f635b\n",
      "Data columns (total 12 columns):\n",
      " #   Column             Non-Null Count  Dtype  \n",
      "---  ------             --------------  -----  \n",
      " 0   performance_group  571 non-null    object \n",
      " 1   yrs_employed       571 non-null    float64\n",
      " 2   manager_hire       571 non-null    object \n",
      " 3   test_score         571 non-null    int64  \n",
      " 4   group_size         571 non-null    int64  \n",
      " 5   concern_flag       571 non-null    object \n",
      " 6   mobile_flag        571 non-null    object \n",
      " 7   customers          571 non-null    int64  \n",
      " 8   high_hours_flag    571 non-null    object \n",
      " 9   transfers          571 non-null    int64  \n",
      " 10  reduced_schedule   571 non-null    object \n",
      " 11  city               571 non-null    object \n",
      "dtypes: float64(1), int64(4), object(7)\n",
      "memory usage: 58.0+ KB\n"
     ]
    }
   ],
   "source": [
    "manager_data.info()\n"
   ]
  },
  {
   "cell_type": "code",
   "execution_count": 10,
   "metadata": {},
   "outputs": [
    {
     "data": {
      "text/html": [
       "<div>\n",
       "<style scoped>\n",
       "    .dataframe tbody tr th:only-of-type {\n",
       "        vertical-align: middle;\n",
       "    }\n",
       "\n",
       "    .dataframe tbody tr th {\n",
       "        vertical-align: top;\n",
       "    }\n",
       "\n",
       "    .dataframe thead th {\n",
       "        text-align: right;\n",
       "    }\n",
       "</style>\n",
       "<table border=\"1\" class=\"dataframe\">\n",
       "  <thead>\n",
       "    <tr style=\"text-align: right;\">\n",
       "      <th></th>\n",
       "      <th>performance_group</th>\n",
       "      <th>yrs_employed</th>\n",
       "      <th>manager_hire</th>\n",
       "      <th>test_score</th>\n",
       "      <th>group_size</th>\n",
       "      <th>concern_flag</th>\n",
       "      <th>mobile_flag</th>\n",
       "      <th>customers</th>\n",
       "      <th>high_hours_flag</th>\n",
       "      <th>transfers</th>\n",
       "      <th>reduced_schedule</th>\n",
       "      <th>city</th>\n",
       "    </tr>\n",
       "    <tr>\n",
       "      <th>employee_id</th>\n",
       "      <th></th>\n",
       "      <th></th>\n",
       "      <th></th>\n",
       "      <th></th>\n",
       "      <th></th>\n",
       "      <th></th>\n",
       "      <th></th>\n",
       "      <th></th>\n",
       "      <th></th>\n",
       "      <th></th>\n",
       "      <th></th>\n",
       "      <th></th>\n",
       "    </tr>\n",
       "  </thead>\n",
       "  <tbody>\n",
       "    <tr>\n",
       "      <th>c4578853</th>\n",
       "      <td>Bottom</td>\n",
       "      <td>4.6</td>\n",
       "      <td>N</td>\n",
       "      <td>205</td>\n",
       "      <td>10</td>\n",
       "      <td>N</td>\n",
       "      <td>N</td>\n",
       "      <td>12</td>\n",
       "      <td>N</td>\n",
       "      <td>0</td>\n",
       "      <td>Y</td>\n",
       "      <td>San Francisco</td>\n",
       "    </tr>\n",
       "    <tr>\n",
       "      <th>a7d7afd6</th>\n",
       "      <td>Middle</td>\n",
       "      <td>5.3</td>\n",
       "      <td>N</td>\n",
       "      <td>227</td>\n",
       "      <td>14</td>\n",
       "      <td>N</td>\n",
       "      <td>Y</td>\n",
       "      <td>18</td>\n",
       "      <td>N</td>\n",
       "      <td>0</td>\n",
       "      <td>N</td>\n",
       "      <td>New York</td>\n",
       "    </tr>\n",
       "    <tr>\n",
       "      <th>272b93f1</th>\n",
       "      <td>Bottom</td>\n",
       "      <td>5.2</td>\n",
       "      <td>N</td>\n",
       "      <td>227</td>\n",
       "      <td>10</td>\n",
       "      <td>N</td>\n",
       "      <td>N</td>\n",
       "      <td>12</td>\n",
       "      <td>N</td>\n",
       "      <td>0</td>\n",
       "      <td>Y</td>\n",
       "      <td>Chicago</td>\n",
       "    </tr>\n",
       "    <tr>\n",
       "      <th>be8b6baa</th>\n",
       "      <td>Middle</td>\n",
       "      <td>4.9</td>\n",
       "      <td>N</td>\n",
       "      <td>273</td>\n",
       "      <td>19</td>\n",
       "      <td>N</td>\n",
       "      <td>N</td>\n",
       "      <td>26</td>\n",
       "      <td>Y</td>\n",
       "      <td>0</td>\n",
       "      <td>N</td>\n",
       "      <td>New York</td>\n",
       "    </tr>\n",
       "    <tr>\n",
       "      <th>a18ecc4e</th>\n",
       "      <td>Bottom</td>\n",
       "      <td>4.9</td>\n",
       "      <td>N</td>\n",
       "      <td>227</td>\n",
       "      <td>17</td>\n",
       "      <td>Y</td>\n",
       "      <td>N</td>\n",
       "      <td>26</td>\n",
       "      <td>Y</td>\n",
       "      <td>5</td>\n",
       "      <td>Y</td>\n",
       "      <td>Orlando</td>\n",
       "    </tr>\n",
       "  </tbody>\n",
       "</table>\n",
       "</div>"
      ],
      "text/plain": [
       "            performance_group  yrs_employed manager_hire  test_score  \\\n",
       "employee_id                                                            \n",
       "c4578853               Bottom           4.6            N         205   \n",
       "a7d7afd6               Middle           5.3            N         227   \n",
       "272b93f1               Bottom           5.2            N         227   \n",
       "be8b6baa               Middle           4.9            N         273   \n",
       "a18ecc4e               Bottom           4.9            N         227   \n",
       "\n",
       "             group_size concern_flag mobile_flag  customers high_hours_flag  \\\n",
       "employee_id                                                                   \n",
       "c4578853             10            N           N         12               N   \n",
       "a7d7afd6             14            N           Y         18               N   \n",
       "272b93f1             10            N           N         12               N   \n",
       "be8b6baa             19            N           N         26               Y   \n",
       "a18ecc4e             17            Y           N         26               Y   \n",
       "\n",
       "             transfers reduced_schedule           city  \n",
       "employee_id                                             \n",
       "c4578853             0                Y  San Francisco  \n",
       "a7d7afd6             0                N       New York  \n",
       "272b93f1             0                Y        Chicago  \n",
       "be8b6baa             0                N       New York  \n",
       "a18ecc4e             5                Y        Orlando  "
      ]
     },
     "execution_count": 10,
     "metadata": {},
     "output_type": "execute_result"
    }
   ],
   "source": [
    "manager_data.head()"
   ]
  },
  {
   "cell_type": "code",
   "execution_count": 13,
   "metadata": {},
   "outputs": [
    {
     "data": {
      "text/plain": [
       "<AxesSubplot:xlabel='performance_group', ylabel='count'>"
      ]
     },
     "execution_count": 13,
     "metadata": {},
     "output_type": "execute_result"
    },
    {
     "data": {
      "image/png": "[encoded data removed]",
      "text/plain": [
       "<Figure size 432x288 with 1 Axes>"
      ]
     },
     "metadata": {
      "needs_background": "light"
     },
     "output_type": "display_data"
    }
   ],
   "source": [
    "sns.countplot(data = manager_data, x = \"performance_group\")"
   ]
  },
  {
   "cell_type": "code",
   "execution_count": 117,
   "metadata": {},
   "outputs": [],
   "source": [
    "## convert to binary bottom\n",
    "binary_bottom = pd.get_dummies(manager_data['performance_group'])['Bottom']\n",
    "binary_bottom.columnsumns = 'Bottom'"
   ]
  },
  {
   "cell_type": "code",
   "execution_count": 118,
   "metadata": {},
   "outputs": [],
   "source": [
    "manager_data_bot = pd.concat([manager_data.drop('performance_group', axis = 1), binary_bottom], axis = 1)"
   ]
  },
  {
   "cell_type": "code",
   "execution_count": 119,
   "metadata": {},
   "outputs": [],
   "source": [
    "## get dummies\n",
    "dummy_vars = ['manager_hire', 'concern_flag', \n",
    "             'mobile_flag', 'high_hours_flag', \n",
    "             'reduced_schedule', 'city']\n",
    "\n",
    "dummies = pd.get_dummies(manager_data_bot[dummy_vars], \n",
    "                         drop_first=True)\n"
   ]
  },
  {
   "cell_type": "code",
   "execution_count": 120,
   "metadata": {},
   "outputs": [],
   "source": [
    "data = pd.concat([manager_data_bot.drop(dummy_vars, axis = 1), dummies], axis = 1)"
   ]
  },
  {
   "cell_type": "code",
   "execution_count": 121,
   "metadata": {},
   "outputs": [
    {
     "ename": "KeyError",
     "evalue": "\"['Bottom'] not found in axis\"",
     "output_type": "error",
     "traceback": [
      "\u001b[0;31m---------------------------------------------------------------------------\u001b[0m",
      "\u001b[0;31mKeyError\u001b[0m                                  Traceback (most recent call last)",
      "\u001b[0;32m<ipython-input-121-b7ab677a8e5f>\u001b[0m in \u001b[0;36m<module>\u001b[0;34m\u001b[0m\n\u001b[0;32m----> 1\u001b[0;31m \u001b[0mX\u001b[0m \u001b[0;34m=\u001b[0m \u001b[0mdata\u001b[0m\u001b[0;34m.\u001b[0m\u001b[0mdrop\u001b[0m\u001b[0;34m(\u001b[0m\u001b[0;34m'Bottom'\u001b[0m\u001b[0;34m,\u001b[0m \u001b[0maxis\u001b[0m \u001b[0;34m=\u001b[0m \u001b[0;36m1\u001b[0m\u001b[0;34m)\u001b[0m\u001b[0;34m\u001b[0m\u001b[0;34m\u001b[0m\u001b[0m\n\u001b[0m\u001b[1;32m      2\u001b[0m \u001b[0my\u001b[0m \u001b[0;34m=\u001b[0m \u001b[0mdata\u001b[0m\u001b[0;34m[\u001b[0m\u001b[0;34m'Bottom'\u001b[0m\u001b[0;34m]\u001b[0m\u001b[0;34m\u001b[0m\u001b[0;34m\u001b[0m\u001b[0m\n",
      "\u001b[0;32m~/miniconda3/lib/python3.8/site-packages/pandas/core/frame.py\u001b[0m in \u001b[0;36mdrop\u001b[0;34m(self, labels, axis, index, columns, level, inplace, errors)\u001b[0m\n\u001b[1;32m   4158\u001b[0m                 \u001b[0mweight\u001b[0m  \u001b[0;36m1.0\u001b[0m     \u001b[0;36m0.8\u001b[0m\u001b[0;34m\u001b[0m\u001b[0;34m\u001b[0m\u001b[0m\n\u001b[1;32m   4159\u001b[0m         \"\"\"\n\u001b[0;32m-> 4160\u001b[0;31m         return super().drop(\n\u001b[0m\u001b[1;32m   4161\u001b[0m             \u001b[0mlabels\u001b[0m\u001b[0;34m=\u001b[0m\u001b[0mlabels\u001b[0m\u001b[0;34m,\u001b[0m\u001b[0;34m\u001b[0m\u001b[0;34m\u001b[0m\u001b[0m\n\u001b[1;32m   4162\u001b[0m             \u001b[0maxis\u001b[0m\u001b[0;34m=\u001b[0m\u001b[0maxis\u001b[0m\u001b[0;34m,\u001b[0m\u001b[0;34m\u001b[0m\u001b[0;34m\u001b[0m\u001b[0m\n",
      "\u001b[0;32m~/miniconda3/lib/python3.8/site-packages/pandas/core/generic.py\u001b[0m in \u001b[0;36mdrop\u001b[0;34m(self, labels, axis, index, columns, level, inplace, errors)\u001b[0m\n\u001b[1;32m   3876\u001b[0m         \u001b[0;32mfor\u001b[0m \u001b[0maxis\u001b[0m\u001b[0;34m,\u001b[0m \u001b[0mlabels\u001b[0m \u001b[0;32min\u001b[0m \u001b[0maxes\u001b[0m\u001b[0;34m.\u001b[0m\u001b[0mitems\u001b[0m\u001b[0;34m(\u001b[0m\u001b[0;34m)\u001b[0m\u001b[0;34m:\u001b[0m\u001b[0;34m\u001b[0m\u001b[0;34m\u001b[0m\u001b[0m\n\u001b[1;32m   3877\u001b[0m             \u001b[0;32mif\u001b[0m \u001b[0mlabels\u001b[0m \u001b[0;32mis\u001b[0m \u001b[0;32mnot\u001b[0m \u001b[0;32mNone\u001b[0m\u001b[0;34m:\u001b[0m\u001b[0;34m\u001b[0m\u001b[0;34m\u001b[0m\u001b[0m\n\u001b[0;32m-> 3878\u001b[0;31m                 \u001b[0mobj\u001b[0m \u001b[0;34m=\u001b[0m \u001b[0mobj\u001b[0m\u001b[0;34m.\u001b[0m\u001b[0m_drop_axis\u001b[0m\u001b[0;34m(\u001b[0m\u001b[0mlabels\u001b[0m\u001b[0;34m,\u001b[0m \u001b[0maxis\u001b[0m\u001b[0;34m,\u001b[0m \u001b[0mlevel\u001b[0m\u001b[0;34m=\u001b[0m\u001b[0mlevel\u001b[0m\u001b[0;34m,\u001b[0m \u001b[0merrors\u001b[0m\u001b[0;34m=\u001b[0m\u001b[0merrors\u001b[0m\u001b[0;34m)\u001b[0m\u001b[0;34m\u001b[0m\u001b[0;34m\u001b[0m\u001b[0m\n\u001b[0m\u001b[1;32m   3879\u001b[0m \u001b[0;34m\u001b[0m\u001b[0m\n\u001b[1;32m   3880\u001b[0m         \u001b[0;32mif\u001b[0m \u001b[0minplace\u001b[0m\u001b[0;34m:\u001b[0m\u001b[0;34m\u001b[0m\u001b[0;34m\u001b[0m\u001b[0m\n",
      "\u001b[0;32m~/miniconda3/lib/python3.8/site-packages/pandas/core/generic.py\u001b[0m in \u001b[0;36m_drop_axis\u001b[0;34m(self, labels, axis, level, errors)\u001b[0m\n\u001b[1;32m   3910\u001b[0m                 \u001b[0mnew_axis\u001b[0m \u001b[0;34m=\u001b[0m \u001b[0maxis\u001b[0m\u001b[0;34m.\u001b[0m\u001b[0mdrop\u001b[0m\u001b[0;34m(\u001b[0m\u001b[0mlabels\u001b[0m\u001b[0;34m,\u001b[0m \u001b[0mlevel\u001b[0m\u001b[0;34m=\u001b[0m\u001b[0mlevel\u001b[0m\u001b[0;34m,\u001b[0m \u001b[0merrors\u001b[0m\u001b[0;34m=\u001b[0m\u001b[0merrors\u001b[0m\u001b[0;34m)\u001b[0m\u001b[0;34m\u001b[0m\u001b[0;34m\u001b[0m\u001b[0m\n\u001b[1;32m   3911\u001b[0m             \u001b[0;32melse\u001b[0m\u001b[0;34m:\u001b[0m\u001b[0;34m\u001b[0m\u001b[0;34m\u001b[0m\u001b[0m\n\u001b[0;32m-> 3912\u001b[0;31m                 \u001b[0mnew_axis\u001b[0m \u001b[0;34m=\u001b[0m \u001b[0maxis\u001b[0m\u001b[0;34m.\u001b[0m\u001b[0mdrop\u001b[0m\u001b[0;34m(\u001b[0m\u001b[0mlabels\u001b[0m\u001b[0;34m,\u001b[0m \u001b[0merrors\u001b[0m\u001b[0;34m=\u001b[0m\u001b[0merrors\u001b[0m\u001b[0;34m)\u001b[0m\u001b[0;34m\u001b[0m\u001b[0;34m\u001b[0m\u001b[0m\n\u001b[0m\u001b[1;32m   3913\u001b[0m             \u001b[0mresult\u001b[0m \u001b[0;34m=\u001b[0m \u001b[0mself\u001b[0m\u001b[0;34m.\u001b[0m\u001b[0mreindex\u001b[0m\u001b[0;34m(\u001b[0m\u001b[0;34m**\u001b[0m\u001b[0;34m{\u001b[0m\u001b[0maxis_name\u001b[0m\u001b[0;34m:\u001b[0m \u001b[0mnew_axis\u001b[0m\u001b[0;34m}\u001b[0m\u001b[0;34m)\u001b[0m\u001b[0;34m\u001b[0m\u001b[0;34m\u001b[0m\u001b[0m\n\u001b[1;32m   3914\u001b[0m \u001b[0;34m\u001b[0m\u001b[0m\n",
      "\u001b[0;32m~/miniconda3/lib/python3.8/site-packages/pandas/core/indexes/base.py\u001b[0m in \u001b[0;36mdrop\u001b[0;34m(self, labels, errors)\u001b[0m\n\u001b[1;32m   5274\u001b[0m         \u001b[0;32mif\u001b[0m \u001b[0mmask\u001b[0m\u001b[0;34m.\u001b[0m\u001b[0many\u001b[0m\u001b[0;34m(\u001b[0m\u001b[0;34m)\u001b[0m\u001b[0;34m:\u001b[0m\u001b[0;34m\u001b[0m\u001b[0;34m\u001b[0m\u001b[0m\n\u001b[1;32m   5275\u001b[0m             \u001b[0;32mif\u001b[0m \u001b[0merrors\u001b[0m \u001b[0;34m!=\u001b[0m \u001b[0;34m\"ignore\"\u001b[0m\u001b[0;34m:\u001b[0m\u001b[0;34m\u001b[0m\u001b[0;34m\u001b[0m\u001b[0m\n\u001b[0;32m-> 5276\u001b[0;31m                 \u001b[0;32mraise\u001b[0m \u001b[0mKeyError\u001b[0m\u001b[0;34m(\u001b[0m\u001b[0;34mf\"{labels[mask]} not found in axis\"\u001b[0m\u001b[0;34m)\u001b[0m\u001b[0;34m\u001b[0m\u001b[0;34m\u001b[0m\u001b[0m\n\u001b[0m\u001b[1;32m   5277\u001b[0m             \u001b[0mindexer\u001b[0m \u001b[0;34m=\u001b[0m \u001b[0mindexer\u001b[0m\u001b[0;34m[\u001b[0m\u001b[0;34m~\u001b[0m\u001b[0mmask\u001b[0m\u001b[0;34m]\u001b[0m\u001b[0;34m\u001b[0m\u001b[0;34m\u001b[0m\u001b[0m\n\u001b[1;32m   5278\u001b[0m         \u001b[0;32mreturn\u001b[0m \u001b[0mself\u001b[0m\u001b[0;34m.\u001b[0m\u001b[0mdelete\u001b[0m\u001b[0;34m(\u001b[0m\u001b[0mindexer\u001b[0m\u001b[0;34m)\u001b[0m\u001b[0;34m\u001b[0m\u001b[0;34m\u001b[0m\u001b[0m\n",
      "\u001b[0;31mKeyError\u001b[0m: \"['Bottom'] not found in axis\""
     ]
    }
   ],
   "source": [
    "X = data.drop('Bottom', axis = 1)\n",
    "y = data['Bottom']"
   ]
  },
  {
   "cell_type": "code",
   "execution_count": 36,
   "metadata": {},
   "outputs": [],
   "source": [
    "from sklearn.linear_model import LogisticRegression\n",
    "from sklearn.model_selection import train_test_split"
   ]
  },
  {
   "cell_type": "code",
   "execution_count": 37,
   "metadata": {},
   "outputs": [],
   "source": [
    "X_test, X_train, y_test, y_train = train_test_split(X, y, test_size = 0.3, random_state = 101)"
   ]
  },
  {
   "cell_type": "code",
   "execution_count": 38,
   "metadata": {},
   "outputs": [],
   "source": [
    "model = LogisticRegression(max_iter=1000)"
   ]
  },
  {
   "cell_type": "code",
   "execution_count": 39,
   "metadata": {},
   "outputs": [
    {
     "data": {
      "text/html": [
       "<div>\n",
       "<style scoped>\n",
       "    .dataframe tbody tr th:only-of-type {\n",
       "        vertical-align: middle;\n",
       "    }\n",
       "\n",
       "    .dataframe tbody tr th {\n",
       "        vertical-align: top;\n",
       "    }\n",
       "\n",
       "    .dataframe thead th {\n",
       "        text-align: right;\n",
       "    }\n",
       "</style>\n",
       "<table border=\"1\" class=\"dataframe\">\n",
       "  <thead>\n",
       "    <tr style=\"text-align: right;\">\n",
       "      <th></th>\n",
       "      <th>yrs_employed</th>\n",
       "      <th>test_score</th>\n",
       "      <th>group_size</th>\n",
       "      <th>customers</th>\n",
       "      <th>transfers</th>\n",
       "      <th>manager_hire_Y</th>\n",
       "      <th>concern_flag_Y</th>\n",
       "      <th>mobile_flag_Y</th>\n",
       "      <th>high_hours_flag_Y</th>\n",
       "      <th>reduced_schedule_Y</th>\n",
       "      <th>city_Houston</th>\n",
       "      <th>city_New York</th>\n",
       "      <th>city_Orlando</th>\n",
       "      <th>city_San Francisco</th>\n",
       "      <th>city_Toronto</th>\n",
       "    </tr>\n",
       "    <tr>\n",
       "      <th>employee_id</th>\n",
       "      <th></th>\n",
       "      <th></th>\n",
       "      <th></th>\n",
       "      <th></th>\n",
       "      <th></th>\n",
       "      <th></th>\n",
       "      <th></th>\n",
       "      <th></th>\n",
       "      <th></th>\n",
       "      <th></th>\n",
       "      <th></th>\n",
       "      <th></th>\n",
       "      <th></th>\n",
       "      <th></th>\n",
       "      <th></th>\n",
       "    </tr>\n",
       "  </thead>\n",
       "  <tbody>\n",
       "    <tr>\n",
       "      <th>03a8743a</th>\n",
       "      <td>5.4</td>\n",
       "      <td>265</td>\n",
       "      <td>9</td>\n",
       "      <td>26</td>\n",
       "      <td>0</td>\n",
       "      <td>0</td>\n",
       "      <td>0</td>\n",
       "      <td>1</td>\n",
       "      <td>0</td>\n",
       "      <td>1</td>\n",
       "      <td>0</td>\n",
       "      <td>0</td>\n",
       "      <td>0</td>\n",
       "      <td>0</td>\n",
       "      <td>0</td>\n",
       "    </tr>\n",
       "    <tr>\n",
       "      <th>a56cb82f</th>\n",
       "      <td>5.2</td>\n",
       "      <td>326</td>\n",
       "      <td>11</td>\n",
       "      <td>16</td>\n",
       "      <td>0</td>\n",
       "      <td>0</td>\n",
       "      <td>0</td>\n",
       "      <td>0</td>\n",
       "      <td>0</td>\n",
       "      <td>0</td>\n",
       "      <td>0</td>\n",
       "      <td>0</td>\n",
       "      <td>0</td>\n",
       "      <td>0</td>\n",
       "      <td>0</td>\n",
       "    </tr>\n",
       "    <tr>\n",
       "      <th>bd1fd772</th>\n",
       "      <td>4.7</td>\n",
       "      <td>182</td>\n",
       "      <td>11</td>\n",
       "      <td>24</td>\n",
       "      <td>0</td>\n",
       "      <td>0</td>\n",
       "      <td>0</td>\n",
       "      <td>0</td>\n",
       "      <td>0</td>\n",
       "      <td>0</td>\n",
       "      <td>0</td>\n",
       "      <td>0</td>\n",
       "      <td>0</td>\n",
       "      <td>0</td>\n",
       "      <td>1</td>\n",
       "    </tr>\n",
       "    <tr>\n",
       "      <th>2f8a425a</th>\n",
       "      <td>4.5</td>\n",
       "      <td>235</td>\n",
       "      <td>10</td>\n",
       "      <td>22</td>\n",
       "      <td>0</td>\n",
       "      <td>0</td>\n",
       "      <td>0</td>\n",
       "      <td>0</td>\n",
       "      <td>1</td>\n",
       "      <td>0</td>\n",
       "      <td>0</td>\n",
       "      <td>0</td>\n",
       "      <td>0</td>\n",
       "      <td>0</td>\n",
       "      <td>1</td>\n",
       "    </tr>\n",
       "    <tr>\n",
       "      <th>e104e934</th>\n",
       "      <td>4.6</td>\n",
       "      <td>174</td>\n",
       "      <td>15</td>\n",
       "      <td>20</td>\n",
       "      <td>0</td>\n",
       "      <td>0</td>\n",
       "      <td>0</td>\n",
       "      <td>1</td>\n",
       "      <td>0</td>\n",
       "      <td>1</td>\n",
       "      <td>1</td>\n",
       "      <td>0</td>\n",
       "      <td>0</td>\n",
       "      <td>0</td>\n",
       "      <td>0</td>\n",
       "    </tr>\n",
       "    <tr>\n",
       "      <th>...</th>\n",
       "      <td>...</td>\n",
       "      <td>...</td>\n",
       "      <td>...</td>\n",
       "      <td>...</td>\n",
       "      <td>...</td>\n",
       "      <td>...</td>\n",
       "      <td>...</td>\n",
       "      <td>...</td>\n",
       "      <td>...</td>\n",
       "      <td>...</td>\n",
       "      <td>...</td>\n",
       "      <td>...</td>\n",
       "      <td>...</td>\n",
       "      <td>...</td>\n",
       "      <td>...</td>\n",
       "    </tr>\n",
       "    <tr>\n",
       "      <th>01aa135f</th>\n",
       "      <td>5.0</td>\n",
       "      <td>258</td>\n",
       "      <td>15</td>\n",
       "      <td>22</td>\n",
       "      <td>2</td>\n",
       "      <td>0</td>\n",
       "      <td>0</td>\n",
       "      <td>0</td>\n",
       "      <td>1</td>\n",
       "      <td>0</td>\n",
       "      <td>0</td>\n",
       "      <td>1</td>\n",
       "      <td>0</td>\n",
       "      <td>0</td>\n",
       "      <td>0</td>\n",
       "    </tr>\n",
       "    <tr>\n",
       "      <th>f7073349</th>\n",
       "      <td>2.4</td>\n",
       "      <td>129</td>\n",
       "      <td>8</td>\n",
       "      <td>36</td>\n",
       "      <td>2</td>\n",
       "      <td>1</td>\n",
       "      <td>0</td>\n",
       "      <td>0</td>\n",
       "      <td>0</td>\n",
       "      <td>0</td>\n",
       "      <td>0</td>\n",
       "      <td>1</td>\n",
       "      <td>0</td>\n",
       "      <td>0</td>\n",
       "      <td>0</td>\n",
       "    </tr>\n",
       "    <tr>\n",
       "      <th>dde1999b</th>\n",
       "      <td>4.9</td>\n",
       "      <td>152</td>\n",
       "      <td>8</td>\n",
       "      <td>20</td>\n",
       "      <td>0</td>\n",
       "      <td>0</td>\n",
       "      <td>0</td>\n",
       "      <td>0</td>\n",
       "      <td>0</td>\n",
       "      <td>1</td>\n",
       "      <td>0</td>\n",
       "      <td>0</td>\n",
       "      <td>1</td>\n",
       "      <td>0</td>\n",
       "      <td>0</td>\n",
       "    </tr>\n",
       "    <tr>\n",
       "      <th>fcd29ebc</th>\n",
       "      <td>5.5</td>\n",
       "      <td>326</td>\n",
       "      <td>13</td>\n",
       "      <td>28</td>\n",
       "      <td>0</td>\n",
       "      <td>0</td>\n",
       "      <td>0</td>\n",
       "      <td>0</td>\n",
       "      <td>1</td>\n",
       "      <td>0</td>\n",
       "      <td>0</td>\n",
       "      <td>0</td>\n",
       "      <td>0</td>\n",
       "      <td>0</td>\n",
       "      <td>1</td>\n",
       "    </tr>\n",
       "    <tr>\n",
       "      <th>12d9bf3a</th>\n",
       "      <td>4.2</td>\n",
       "      <td>379</td>\n",
       "      <td>10</td>\n",
       "      <td>22</td>\n",
       "      <td>0</td>\n",
       "      <td>0</td>\n",
       "      <td>0</td>\n",
       "      <td>0</td>\n",
       "      <td>1</td>\n",
       "      <td>0</td>\n",
       "      <td>0</td>\n",
       "      <td>0</td>\n",
       "      <td>0</td>\n",
       "      <td>0</td>\n",
       "      <td>1</td>\n",
       "    </tr>\n",
       "  </tbody>\n",
       "</table>\n",
       "<p>172 rows × 15 columns</p>\n",
       "</div>"
      ],
      "text/plain": [
       "             yrs_employed  test_score  group_size  customers  transfers  \\\n",
       "employee_id                                                               \n",
       "03a8743a              5.4         265           9         26          0   \n",
       "a56cb82f              5.2         326          11         16          0   \n",
       "bd1fd772              4.7         182          11         24          0   \n",
       "2f8a425a              4.5         235          10         22          0   \n",
       "e104e934              4.6         174          15         20          0   \n",
       "...                   ...         ...         ...        ...        ...   \n",
       "01aa135f              5.0         258          15         22          2   \n",
       "f7073349              2.4         129           8         36          2   \n",
       "dde1999b              4.9         152           8         20          0   \n",
       "fcd29ebc              5.5         326          13         28          0   \n",
       "12d9bf3a              4.2         379          10         22          0   \n",
       "\n",
       "             manager_hire_Y  concern_flag_Y  mobile_flag_Y  high_hours_flag_Y  \\\n",
       "employee_id                                                                     \n",
       "03a8743a                  0               0              1                  0   \n",
       "a56cb82f                  0               0              0                  0   \n",
       "bd1fd772                  0               0              0                  0   \n",
       "2f8a425a                  0               0              0                  1   \n",
       "e104e934                  0               0              1                  0   \n",
       "...                     ...             ...            ...                ...   \n",
       "01aa135f                  0               0              0                  1   \n",
       "f7073349                  1               0              0                  0   \n",
       "dde1999b                  0               0              0                  0   \n",
       "fcd29ebc                  0               0              0                  1   \n",
       "12d9bf3a                  0               0              0                  1   \n",
       "\n",
       "             reduced_schedule_Y  city_Houston  city_New York  city_Orlando  \\\n",
       "employee_id                                                                  \n",
       "03a8743a                      1             0              0             0   \n",
       "a56cb82f                      0             0              0             0   \n",
       "bd1fd772                      0             0              0             0   \n",
       "2f8a425a                      0             0              0             0   \n",
       "e104e934                      1             1              0             0   \n",
       "...                         ...           ...            ...           ...   \n",
       "01aa135f                      0             0              1             0   \n",
       "f7073349                      0             0              1             0   \n",
       "dde1999b                      1             0              0             1   \n",
       "fcd29ebc                      0             0              0             0   \n",
       "12d9bf3a                      0             0              0             0   \n",
       "\n",
       "             city_San Francisco  city_Toronto  \n",
       "employee_id                                    \n",
       "03a8743a                      0             0  \n",
       "a56cb82f                      0             0  \n",
       "bd1fd772                      0             1  \n",
       "2f8a425a                      0             1  \n",
       "e104e934                      0             0  \n",
       "...                         ...           ...  \n",
       "01aa135f                      0             0  \n",
       "f7073349                      0             0  \n",
       "dde1999b                      0             0  \n",
       "fcd29ebc                      0             1  \n",
       "12d9bf3a                      0             1  \n",
       "\n",
       "[172 rows x 15 columns]"
      ]
     },
     "execution_count": 39,
     "metadata": {},
     "output_type": "execute_result"
    }
   ],
   "source": [
    "X_train"
   ]
  },
  {
   "cell_type": "code",
   "execution_count": 40,
   "metadata": {},
   "outputs": [
    {
     "data": {
      "text/plain": [
       "employee_id\n",
       "03a8743a    0\n",
       "a56cb82f    0\n",
       "bd1fd772    0\n",
       "2f8a425a    0\n",
       "e104e934    0\n",
       "           ..\n",
       "01aa135f    0\n",
       "f7073349    0\n",
       "dde1999b    0\n",
       "fcd29ebc    0\n",
       "12d9bf3a    0\n",
       "Name: Bottom, Length: 172, dtype: uint8"
      ]
     },
     "execution_count": 40,
     "metadata": {},
     "output_type": "execute_result"
    }
   ],
   "source": [
    "y_train"
   ]
  },
  {
   "cell_type": "code",
   "execution_count": 41,
   "metadata": {},
   "outputs": [
    {
     "data": {
      "text/plain": [
       "LogisticRegression(max_iter=1000)"
      ]
     },
     "execution_count": 41,
     "metadata": {},
     "output_type": "execute_result"
    }
   ],
   "source": [
    "model.fit(X_train, y_train)"
   ]
  },
  {
   "cell_type": "code",
   "execution_count": 42,
   "metadata": {},
   "outputs": [
    {
     "data": {
      "text/plain": [
       "array([[ 1.35523594, -0.00388156, -0.13531761, -0.06295296,  0.49723077,\n",
       "         0.89506722,  0.24809258,  0.15680635, -0.09951831,  0.43665716,\n",
       "        -0.56686138,  0.37698892, -0.75531536, -0.09661565, -0.82509975]])"
      ]
     },
     "execution_count": 42,
     "metadata": {},
     "output_type": "execute_result"
    }
   ],
   "source": [
    "model.coef_"
   ]
  },
  {
   "cell_type": "code",
   "execution_count": 43,
   "metadata": {},
   "outputs": [],
   "source": [
    "predicts = model.predict(X_test)"
   ]
  },
  {
   "cell_type": "code",
   "execution_count": 44,
   "metadata": {},
   "outputs": [],
   "source": [
    "from sklearn.metrics import confusion_matrix, classification_report"
   ]
  },
  {
   "cell_type": "code",
   "execution_count": 45,
   "metadata": {},
   "outputs": [
    {
     "name": "stdout",
     "output_type": "stream",
     "text": [
      "[[293  19]\n",
      " [ 76  11]]\n"
     ]
    }
   ],
   "source": [
    "print(confusion_matrix(y_test, predicts))"
   ]
  },
  {
   "cell_type": "code",
   "execution_count": 46,
   "metadata": {},
   "outputs": [
    {
     "name": "stdout",
     "output_type": "stream",
     "text": [
      "              precision    recall  f1-score   support\n",
      "\n",
      "           0       0.79      0.94      0.86       312\n",
      "           1       0.37      0.13      0.19        87\n",
      "\n",
      "    accuracy                           0.76       399\n",
      "   macro avg       0.58      0.53      0.52       399\n",
      "weighted avg       0.70      0.76      0.71       399\n",
      "\n"
     ]
    }
   ],
   "source": [
    "print(classification_report(y_test, predicts))"
   ]
  },
  {
   "cell_type": "code",
   "execution_count": 47,
   "metadata": {},
   "outputs": [],
   "source": [
    "## scale for subsequent models\n",
    "\n",
    "from sklearn.preprocessing import StandardScaler\n",
    "\n",
    "scaler = StandardScaler()"
   ]
  },
  {
   "cell_type": "code",
   "execution_count": 48,
   "metadata": {},
   "outputs": [],
   "source": [
    "X_train_scaled = scaler.fit_transform(X_train)"
   ]
  },
  {
   "cell_type": "code",
   "execution_count": 49,
   "metadata": {},
   "outputs": [],
   "source": [
    "X_test_scaled = scaler.transform(X_test)"
   ]
  },
  {
   "cell_type": "code",
   "execution_count": 50,
   "metadata": {},
   "outputs": [],
   "source": [
    "from sklearn.neighbors import KNeighborsClassifier\n",
    "\n",
    "error_rate = []\n",
    "\n",
    "for i in range(1, 40):\n",
    "    modeli = KNeighborsClassifier(n_neighbors=i)\n",
    "    modeli.fit(X_train, y_train)\n",
    "    predicti = modeli.predict(X_test)\n",
    "    error_rate.append(np.mean(predicti != y_test))"
   ]
  },
  {
   "cell_type": "code",
   "execution_count": 51,
   "metadata": {},
   "outputs": [],
   "source": [
    "error_rate = pd.DataFrame(dict(k=range(1,40), err=error_rate))"
   ]
  },
  {
   "cell_type": "code",
   "execution_count": 52,
   "metadata": {},
   "outputs": [
    {
     "data": {
      "text/plain": [
       "<AxesSubplot:xlabel='k', ylabel='err'>"
      ]
     },
     "execution_count": 52,
     "metadata": {},
     "output_type": "execute_result"
    },
    {
     "data": {
      "image/png": "[encoded data removed]",
      "text/plain": [
       "<Figure size 432x288 with 1 Axes>"
      ]
     },
     "metadata": {
      "needs_background": "light"
     },
     "output_type": "display_data"
    }
   ],
   "source": [
    "sns.lineplot(data = error_rate, x = 'k', y = 'err')"
   ]
  },
  {
   "cell_type": "code",
   "execution_count": 58,
   "metadata": {},
   "outputs": [],
   "source": [
    "## k = 4 looks best\n",
    "\n",
    "knnmodel = KNeighborsClassifier(n_neighbors=4)"
   ]
  },
  {
   "cell_type": "code",
   "execution_count": 59,
   "metadata": {},
   "outputs": [
    {
     "data": {
      "text/plain": [
       "KNeighborsClassifier(n_neighbors=4)"
      ]
     },
     "execution_count": 59,
     "metadata": {},
     "output_type": "execute_result"
    }
   ],
   "source": [
    "knnmodel.fit(X_train, y_train)"
   ]
  },
  {
   "cell_type": "code",
   "execution_count": 60,
   "metadata": {},
   "outputs": [],
   "source": [
    "knnpredicts = knnmodel.predict(X_test)"
   ]
  },
  {
   "cell_type": "code",
   "execution_count": 61,
   "metadata": {},
   "outputs": [
    {
     "name": "stdout",
     "output_type": "stream",
     "text": [
      "[[287  25]\n",
      " [ 77  10]]\n"
     ]
    }
   ],
   "source": [
    "print(confusion_matrix(y_test, knnpredicts))"
   ]
  },
  {
   "cell_type": "code",
   "execution_count": 62,
   "metadata": {},
   "outputs": [
    {
     "name": "stdout",
     "output_type": "stream",
     "text": [
      "              precision    recall  f1-score   support\n",
      "\n",
      "           0       0.79      0.92      0.85       312\n",
      "           1       0.29      0.11      0.16        87\n",
      "\n",
      "    accuracy                           0.74       399\n",
      "   macro avg       0.54      0.52      0.51       399\n",
      "weighted avg       0.68      0.74      0.70       399\n",
      "\n"
     ]
    }
   ],
   "source": [
    "print(classification_report(y_test, knnpredicts))"
   ]
  },
  {
   "cell_type": "code",
   "execution_count": 63,
   "metadata": {},
   "outputs": [],
   "source": [
    "## Basic decision Tree\n",
    "\n",
    "from sklearn.tree import DecisionTreeClassifier\n",
    "treemodel = DecisionTreeClassifier()"
   ]
  },
  {
   "cell_type": "code",
   "execution_count": 64,
   "metadata": {},
   "outputs": [
    {
     "data": {
      "text/plain": [
       "DecisionTreeClassifier()"
      ]
     },
     "execution_count": 64,
     "metadata": {},
     "output_type": "execute_result"
    }
   ],
   "source": [
    "treemodel.fit(X_train, y_train)"
   ]
  },
  {
   "cell_type": "code",
   "execution_count": 65,
   "metadata": {},
   "outputs": [],
   "source": [
    "treepredicts = treemodel.predict(X_test)"
   ]
  },
  {
   "cell_type": "code",
   "execution_count": 66,
   "metadata": {},
   "outputs": [
    {
     "name": "stdout",
     "output_type": "stream",
     "text": [
      "[[216  96]\n",
      " [ 53  34]]\n"
     ]
    }
   ],
   "source": [
    "print(confusion_matrix(y_test, treepredicts))"
   ]
  },
  {
   "cell_type": "code",
   "execution_count": 67,
   "metadata": {},
   "outputs": [
    {
     "name": "stdout",
     "output_type": "stream",
     "text": [
      "              precision    recall  f1-score   support\n",
      "\n",
      "           0       0.80      0.69      0.74       312\n",
      "           1       0.26      0.39      0.31        87\n",
      "\n",
      "    accuracy                           0.63       399\n",
      "   macro avg       0.53      0.54      0.53       399\n",
      "weighted avg       0.68      0.63      0.65       399\n",
      "\n"
     ]
    }
   ],
   "source": [
    "print(classification_report(y_test, treepredicts))"
   ]
  },
  {
   "cell_type": "code",
   "execution_count": 73,
   "metadata": {},
   "outputs": [],
   "source": [
    "## random forest\n",
    "\n",
    "from sklearn.ensemble import RandomForestClassifier\n",
    "forestmodel = RandomForestClassifier(n_estimators=600)"
   ]
  },
  {
   "cell_type": "code",
   "execution_count": 74,
   "metadata": {},
   "outputs": [
    {
     "data": {
      "text/plain": [
       "RandomForestClassifier(n_estimators=600)"
      ]
     },
     "execution_count": 74,
     "metadata": {},
     "output_type": "execute_result"
    }
   ],
   "source": [
    "forestmodel.fit(X_train, y_train)"
   ]
  },
  {
   "cell_type": "code",
   "execution_count": 75,
   "metadata": {},
   "outputs": [],
   "source": [
    "forestpredicts = forestmodel.predict(X_test)"
   ]
  },
  {
   "cell_type": "code",
   "execution_count": 76,
   "metadata": {},
   "outputs": [
    {
     "name": "stdout",
     "output_type": "stream",
     "text": [
      "[[298  14]\n",
      " [ 75  12]]\n"
     ]
    }
   ],
   "source": [
    "print((confusion_matrix(y_test, forestpredicts)))"
   ]
  },
  {
   "cell_type": "code",
   "execution_count": 77,
   "metadata": {},
   "outputs": [
    {
     "name": "stdout",
     "output_type": "stream",
     "text": [
      "              precision    recall  f1-score   support\n",
      "\n",
      "           0       0.80      0.96      0.87       312\n",
      "           1       0.46      0.14      0.21        87\n",
      "\n",
      "    accuracy                           0.78       399\n",
      "   macro avg       0.63      0.55      0.54       399\n",
      "weighted avg       0.73      0.78      0.73       399\n",
      "\n"
     ]
    }
   ],
   "source": [
    "print((classification_report(y_test, forestpredicts)))"
   ]
  },
  {
   "cell_type": "code",
   "execution_count": 78,
   "metadata": {},
   "outputs": [],
   "source": [
    "from sklearn.svm import SVC"
   ]
  },
  {
   "cell_type": "code",
   "execution_count": 89,
   "metadata": {},
   "outputs": [],
   "source": [
    "svmmodel = SVC(C=0.5)"
   ]
  },
  {
   "cell_type": "code",
   "execution_count": 90,
   "metadata": {},
   "outputs": [
    {
     "data": {
      "text/plain": [
       "SVC(C=0.5)"
      ]
     },
     "execution_count": 90,
     "metadata": {},
     "output_type": "execute_result"
    }
   ],
   "source": [
    "svmmodel.fit(X_train, y_train)"
   ]
  },
  {
   "cell_type": "code",
   "execution_count": 91,
   "metadata": {},
   "outputs": [],
   "source": [
    "svmpredicts = svmmodel.predict(X_test)"
   ]
  },
  {
   "cell_type": "code",
   "execution_count": 92,
   "metadata": {},
   "outputs": [
    {
     "name": "stdout",
     "output_type": "stream",
     "text": [
      "[[312   0]\n",
      " [ 87   0]]\n"
     ]
    }
   ],
   "source": [
    "print(confusion_matrix(y_test, svmpredicts))"
   ]
  },
  {
   "cell_type": "code",
   "execution_count": 93,
   "metadata": {},
   "outputs": [
    {
     "name": "stdout",
     "output_type": "stream",
     "text": [
      "              precision    recall  f1-score   support\n",
      "\n",
      "           0       0.78      1.00      0.88       312\n",
      "           1       0.00      0.00      0.00        87\n",
      "\n",
      "    accuracy                           0.78       399\n",
      "   macro avg       0.39      0.50      0.44       399\n",
      "weighted avg       0.61      0.78      0.69       399\n",
      "\n"
     ]
    },
    {
     "name": "stderr",
     "output_type": "stream",
     "text": [
      "/home/ubuntu/miniconda3/lib/python3.8/site-packages/sklearn/metrics/_classification.py:1221: UndefinedMetricWarning: Precision and F-score are ill-defined and being set to 0.0 in labels with no predicted samples. Use `zero_division` parameter to control this behavior.\n",
      "  _warn_prf(average, modifier, msg_start, len(result))\n"
     ]
    }
   ],
   "source": [
    "print((classification_report(y_test, svmpredicts)))"
   ]
  },
  {
   "cell_type": "code",
   "execution_count": 94,
   "metadata": {},
   "outputs": [
    {
     "data": {
      "text/html": [
       "<div>\n",
       "<style scoped>\n",
       "    .dataframe tbody tr th:only-of-type {\n",
       "        vertical-align: middle;\n",
       "    }\n",
       "\n",
       "    .dataframe tbody tr th {\n",
       "        vertical-align: top;\n",
       "    }\n",
       "\n",
       "    .dataframe thead th {\n",
       "        text-align: right;\n",
       "    }\n",
       "</style>\n",
       "<table border=\"1\" class=\"dataframe\">\n",
       "  <thead>\n",
       "    <tr style=\"text-align: right;\">\n",
       "      <th></th>\n",
       "      <th>yrs_employed</th>\n",
       "      <th>test_score</th>\n",
       "      <th>group_size</th>\n",
       "      <th>customers</th>\n",
       "      <th>transfers</th>\n",
       "      <th>manager_hire_Y</th>\n",
       "      <th>concern_flag_Y</th>\n",
       "      <th>mobile_flag_Y</th>\n",
       "      <th>high_hours_flag_Y</th>\n",
       "      <th>reduced_schedule_Y</th>\n",
       "      <th>city_Houston</th>\n",
       "      <th>city_New York</th>\n",
       "      <th>city_Orlando</th>\n",
       "      <th>city_San Francisco</th>\n",
       "      <th>city_Toronto</th>\n",
       "    </tr>\n",
       "    <tr>\n",
       "      <th>employee_id</th>\n",
       "      <th></th>\n",
       "      <th></th>\n",
       "      <th></th>\n",
       "      <th></th>\n",
       "      <th></th>\n",
       "      <th></th>\n",
       "      <th></th>\n",
       "      <th></th>\n",
       "      <th></th>\n",
       "      <th></th>\n",
       "      <th></th>\n",
       "      <th></th>\n",
       "      <th></th>\n",
       "      <th></th>\n",
       "      <th></th>\n",
       "    </tr>\n",
       "  </thead>\n",
       "  <tbody>\n",
       "    <tr>\n",
       "      <th>03a8743a</th>\n",
       "      <td>5.4</td>\n",
       "      <td>265</td>\n",
       "      <td>9</td>\n",
       "      <td>26</td>\n",
       "      <td>0</td>\n",
       "      <td>0</td>\n",
       "      <td>0</td>\n",
       "      <td>1</td>\n",
       "      <td>0</td>\n",
       "      <td>1</td>\n",
       "      <td>0</td>\n",
       "      <td>0</td>\n",
       "      <td>0</td>\n",
       "      <td>0</td>\n",
       "      <td>0</td>\n",
       "    </tr>\n",
       "    <tr>\n",
       "      <th>a56cb82f</th>\n",
       "      <td>5.2</td>\n",
       "      <td>326</td>\n",
       "      <td>11</td>\n",
       "      <td>16</td>\n",
       "      <td>0</td>\n",
       "      <td>0</td>\n",
       "      <td>0</td>\n",
       "      <td>0</td>\n",
       "      <td>0</td>\n",
       "      <td>0</td>\n",
       "      <td>0</td>\n",
       "      <td>0</td>\n",
       "      <td>0</td>\n",
       "      <td>0</td>\n",
       "      <td>0</td>\n",
       "    </tr>\n",
       "    <tr>\n",
       "      <th>bd1fd772</th>\n",
       "      <td>4.7</td>\n",
       "      <td>182</td>\n",
       "      <td>11</td>\n",
       "      <td>24</td>\n",
       "      <td>0</td>\n",
       "      <td>0</td>\n",
       "      <td>0</td>\n",
       "      <td>0</td>\n",
       "      <td>0</td>\n",
       "      <td>0</td>\n",
       "      <td>0</td>\n",
       "      <td>0</td>\n",
       "      <td>0</td>\n",
       "      <td>0</td>\n",
       "      <td>1</td>\n",
       "    </tr>\n",
       "    <tr>\n",
       "      <th>2f8a425a</th>\n",
       "      <td>4.5</td>\n",
       "      <td>235</td>\n",
       "      <td>10</td>\n",
       "      <td>22</td>\n",
       "      <td>0</td>\n",
       "      <td>0</td>\n",
       "      <td>0</td>\n",
       "      <td>0</td>\n",
       "      <td>1</td>\n",
       "      <td>0</td>\n",
       "      <td>0</td>\n",
       "      <td>0</td>\n",
       "      <td>0</td>\n",
       "      <td>0</td>\n",
       "      <td>1</td>\n",
       "    </tr>\n",
       "    <tr>\n",
       "      <th>e104e934</th>\n",
       "      <td>4.6</td>\n",
       "      <td>174</td>\n",
       "      <td>15</td>\n",
       "      <td>20</td>\n",
       "      <td>0</td>\n",
       "      <td>0</td>\n",
       "      <td>0</td>\n",
       "      <td>1</td>\n",
       "      <td>0</td>\n",
       "      <td>1</td>\n",
       "      <td>1</td>\n",
       "      <td>0</td>\n",
       "      <td>0</td>\n",
       "      <td>0</td>\n",
       "      <td>0</td>\n",
       "    </tr>\n",
       "    <tr>\n",
       "      <th>...</th>\n",
       "      <td>...</td>\n",
       "      <td>...</td>\n",
       "      <td>...</td>\n",
       "      <td>...</td>\n",
       "      <td>...</td>\n",
       "      <td>...</td>\n",
       "      <td>...</td>\n",
       "      <td>...</td>\n",
       "      <td>...</td>\n",
       "      <td>...</td>\n",
       "      <td>...</td>\n",
       "      <td>...</td>\n",
       "      <td>...</td>\n",
       "      <td>...</td>\n",
       "      <td>...</td>\n",
       "    </tr>\n",
       "    <tr>\n",
       "      <th>01aa135f</th>\n",
       "      <td>5.0</td>\n",
       "      <td>258</td>\n",
       "      <td>15</td>\n",
       "      <td>22</td>\n",
       "      <td>2</td>\n",
       "      <td>0</td>\n",
       "      <td>0</td>\n",
       "      <td>0</td>\n",
       "      <td>1</td>\n",
       "      <td>0</td>\n",
       "      <td>0</td>\n",
       "      <td>1</td>\n",
       "      <td>0</td>\n",
       "      <td>0</td>\n",
       "      <td>0</td>\n",
       "    </tr>\n",
       "    <tr>\n",
       "      <th>f7073349</th>\n",
       "      <td>2.4</td>\n",
       "      <td>129</td>\n",
       "      <td>8</td>\n",
       "      <td>36</td>\n",
       "      <td>2</td>\n",
       "      <td>1</td>\n",
       "      <td>0</td>\n",
       "      <td>0</td>\n",
       "      <td>0</td>\n",
       "      <td>0</td>\n",
       "      <td>0</td>\n",
       "      <td>1</td>\n",
       "      <td>0</td>\n",
       "      <td>0</td>\n",
       "      <td>0</td>\n",
       "    </tr>\n",
       "    <tr>\n",
       "      <th>dde1999b</th>\n",
       "      <td>4.9</td>\n",
       "      <td>152</td>\n",
       "      <td>8</td>\n",
       "      <td>20</td>\n",
       "      <td>0</td>\n",
       "      <td>0</td>\n",
       "      <td>0</td>\n",
       "      <td>0</td>\n",
       "      <td>0</td>\n",
       "      <td>1</td>\n",
       "      <td>0</td>\n",
       "      <td>0</td>\n",
       "      <td>1</td>\n",
       "      <td>0</td>\n",
       "      <td>0</td>\n",
       "    </tr>\n",
       "    <tr>\n",
       "      <th>fcd29ebc</th>\n",
       "      <td>5.5</td>\n",
       "      <td>326</td>\n",
       "      <td>13</td>\n",
       "      <td>28</td>\n",
       "      <td>0</td>\n",
       "      <td>0</td>\n",
       "      <td>0</td>\n",
       "      <td>0</td>\n",
       "      <td>1</td>\n",
       "      <td>0</td>\n",
       "      <td>0</td>\n",
       "      <td>0</td>\n",
       "      <td>0</td>\n",
       "      <td>0</td>\n",
       "      <td>1</td>\n",
       "    </tr>\n",
       "    <tr>\n",
       "      <th>12d9bf3a</th>\n",
       "      <td>4.2</td>\n",
       "      <td>379</td>\n",
       "      <td>10</td>\n",
       "      <td>22</td>\n",
       "      <td>0</td>\n",
       "      <td>0</td>\n",
       "      <td>0</td>\n",
       "      <td>0</td>\n",
       "      <td>1</td>\n",
       "      <td>0</td>\n",
       "      <td>0</td>\n",
       "      <td>0</td>\n",
       "      <td>0</td>\n",
       "      <td>0</td>\n",
       "      <td>1</td>\n",
       "    </tr>\n",
       "  </tbody>\n",
       "</table>\n",
       "<p>172 rows × 15 columns</p>\n",
       "</div>"
      ],
      "text/plain": [
       "             yrs_employed  test_score  group_size  customers  transfers  \\\n",
       "employee_id                                                               \n",
       "03a8743a              5.4         265           9         26          0   \n",
       "a56cb82f              5.2         326          11         16          0   \n",
       "bd1fd772              4.7         182          11         24          0   \n",
       "2f8a425a              4.5         235          10         22          0   \n",
       "e104e934              4.6         174          15         20          0   \n",
       "...                   ...         ...         ...        ...        ...   \n",
       "01aa135f              5.0         258          15         22          2   \n",
       "f7073349              2.4         129           8         36          2   \n",
       "dde1999b              4.9         152           8         20          0   \n",
       "fcd29ebc              5.5         326          13         28          0   \n",
       "12d9bf3a              4.2         379          10         22          0   \n",
       "\n",
       "             manager_hire_Y  concern_flag_Y  mobile_flag_Y  high_hours_flag_Y  \\\n",
       "employee_id                                                                     \n",
       "03a8743a                  0               0              1                  0   \n",
       "a56cb82f                  0               0              0                  0   \n",
       "bd1fd772                  0               0              0                  0   \n",
       "2f8a425a                  0               0              0                  1   \n",
       "e104e934                  0               0              1                  0   \n",
       "...                     ...             ...            ...                ...   \n",
       "01aa135f                  0               0              0                  1   \n",
       "f7073349                  1               0              0                  0   \n",
       "dde1999b                  0               0              0                  0   \n",
       "fcd29ebc                  0               0              0                  1   \n",
       "12d9bf3a                  0               0              0                  1   \n",
       "\n",
       "             reduced_schedule_Y  city_Houston  city_New York  city_Orlando  \\\n",
       "employee_id                                                                  \n",
       "03a8743a                      1             0              0             0   \n",
       "a56cb82f                      0             0              0             0   \n",
       "bd1fd772                      0             0              0             0   \n",
       "2f8a425a                      0             0              0             0   \n",
       "e104e934                      1             1              0             0   \n",
       "...                         ...           ...            ...           ...   \n",
       "01aa135f                      0             0              1             0   \n",
       "f7073349                      0             0              1             0   \n",
       "dde1999b                      1             0              0             1   \n",
       "fcd29ebc                      0             0              0             0   \n",
       "12d9bf3a                      0             0              0             0   \n",
       "\n",
       "             city_San Francisco  city_Toronto  \n",
       "employee_id                                    \n",
       "03a8743a                      0             0  \n",
       "a56cb82f                      0             0  \n",
       "bd1fd772                      0             1  \n",
       "2f8a425a                      0             1  \n",
       "e104e934                      0             0  \n",
       "...                         ...           ...  \n",
       "01aa135f                      0             0  \n",
       "f7073349                      0             0  \n",
       "dde1999b                      0             0  \n",
       "fcd29ebc                      0             1  \n",
       "12d9bf3a                      0             1  \n",
       "\n",
       "[172 rows x 15 columns]"
      ]
     },
     "execution_count": 94,
     "metadata": {},
     "output_type": "execute_result"
    }
   ],
   "source": [
    "import tensorflow as tf\n",
    "from tensorflow.keras.models import Sequential\n",
    "from tensorflow.keras.layers import Dense, Activation,Dropout\n",
    "X_train"
   ]
  },
  {
   "cell_type": "code",
   "execution_count": 106,
   "metadata": {},
   "outputs": [],
   "source": [
    "annmodel = Sequential()\n",
    "\n",
    "# https://stats.stackexchange.com/questions/181/how-to-choose-the-number-of-hidden-layers-and-nodes-in-a-feedforward-neural-netw\n",
    "\n",
    "\n",
    "# input layer\n",
    "annmodel.add(Dense(15,  activation='relu'))\n",
    "\n",
    "\n",
    "# hidden layer\n",
    "annmodel.add(Dense(5, activation='relu'))\n",
    "\n",
    "\n",
    "# output layer\n",
    "annmodel.add(Dense(units=1,activation='sigmoid'))\n",
    "\n",
    "# Compile model\n",
    "annmodel.compile(loss='binary_crossentropy', optimizer='adam')"
   ]
  },
  {
   "cell_type": "code",
   "execution_count": 107,
   "metadata": {},
   "outputs": [
    {
     "name": "stdout",
     "output_type": "stream",
     "text": [
      "Epoch 1/25\n",
      "WARNING:tensorflow:Layer dense_3 is casting an input tensor from dtype float64 to the layer's dtype of float32, which is new behavior in TensorFlow 2.  The layer has dtype float32 because it's dtype defaults to floatx.\n",
      "\n",
      "If you intended to run this layer in float32, you can safely ignore this warning. If in doubt, this warning is likely only an issue if you are porting a TensorFlow 1.X model to TensorFlow 2.\n",
      "\n",
      "To change all layers to have dtype float64 by default, call `tf.keras.backend.set_floatx('float64')`. To change just this layer, pass dtype='float64' to the layer constructor. If you are the author of this layer, you can disable autocasting by passing autocast=False to the base Layer constructor.\n",
      "\n",
      "6/6 [==============================] - 0s 36ms/step - loss: 49.8993 - val_loss: 47.5341\n",
      "Epoch 2/25\n",
      "6/6 [==============================] - 0s 10ms/step - loss: 45.7526 - val_loss: 43.5279\n",
      "Epoch 3/25\n",
      "6/6 [==============================] - 0s 10ms/step - loss: 41.8608 - val_loss: 39.7217\n",
      "Epoch 4/25\n",
      "6/6 [==============================] - 0s 11ms/step - loss: 38.1526 - val_loss: 36.0005\n",
      "Epoch 5/25\n",
      "6/6 [==============================] - 0s 10ms/step - loss: 34.4062 - val_loss: 32.4304\n",
      "Epoch 6/25\n",
      "6/6 [==============================] - 0s 10ms/step - loss: 30.9156 - val_loss: 28.9044\n",
      "Epoch 7/25\n",
      "6/6 [==============================] - 0s 10ms/step - loss: 27.3799 - val_loss: 25.3216\n",
      "Epoch 8/25\n",
      "6/6 [==============================] - 0s 10ms/step - loss: 23.7329 - val_loss: 21.4458\n",
      "Epoch 9/25\n",
      "6/6 [==============================] - 0s 10ms/step - loss: 19.7966 - val_loss: 17.3871\n",
      "Epoch 10/25\n",
      "6/6 [==============================] - 0s 10ms/step - loss: 15.7309 - val_loss: 13.1517\n",
      "Epoch 11/25\n",
      "6/6 [==============================] - 0s 11ms/step - loss: 11.5322 - val_loss: 8.8470\n",
      "Epoch 12/25\n",
      "6/6 [==============================] - 0s 10ms/step - loss: 7.3475 - val_loss: 5.4228\n",
      "Epoch 13/25\n",
      "6/6 [==============================] - 0s 14ms/step - loss: 4.4067 - val_loss: 2.7479\n",
      "Epoch 14/25\n",
      "6/6 [==============================] - 0s 10ms/step - loss: 1.8477 - val_loss: 0.6802\n",
      "Epoch 15/25\n",
      "6/6 [==============================] - 0s 10ms/step - loss: 0.5940 - val_loss: 0.5931\n",
      "Epoch 16/25\n",
      "6/6 [==============================] - ETA: 0s - loss: 0.873 - 0s 10ms/step - loss: 0.7401 - val_loss: 0.7398\n",
      "Epoch 17/25\n",
      "6/6 [==============================] - 0s 10ms/step - loss: 0.8692 - val_loss: 0.7567\n",
      "Epoch 18/25\n",
      "6/6 [==============================] - 0s 10ms/step - loss: 0.8460 - val_loss: 0.6858\n",
      "Epoch 19/25\n",
      "6/6 [==============================] - 0s 10ms/step - loss: 0.7485 - val_loss: 0.5937\n",
      "Epoch 20/25\n",
      "6/6 [==============================] - 0s 11ms/step - loss: 0.6381 - val_loss: 0.5300\n",
      "Epoch 21/25\n",
      "6/6 [==============================] - 0s 10ms/step - loss: 0.5725 - val_loss: 0.5177\n",
      "Epoch 22/25\n",
      "6/6 [==============================] - 0s 10ms/step - loss: 0.5467 - val_loss: 0.5290\n",
      "Epoch 23/25\n",
      "6/6 [==============================] - 0s 10ms/step - loss: 0.5526 - val_loss: 0.5330\n",
      "Epoch 24/25\n",
      "6/6 [==============================] - 0s 11ms/step - loss: 0.5531 - val_loss: 0.5260\n",
      "Epoch 25/25\n",
      "6/6 [==============================] - 0s 15ms/step - loss: 0.5483 - val_loss: 0.5217\n"
     ]
    },
    {
     "data": {
      "text/plain": [
       "<tensorflow.python.keras.callbacks.History at 0x7fd7bd2cfbb0>"
      ]
     },
     "execution_count": 107,
     "metadata": {},
     "output_type": "execute_result"
    }
   ],
   "source": [
    "annmodel.fit(x=X_train, \n",
    "          y=y_train, \n",
    "          epochs=25,\n",
    "          validation_data=(X_test, y_test) \n",
    "          )"
   ]
  },
  {
   "cell_type": "code",
   "execution_count": 108,
   "metadata": {},
   "outputs": [],
   "source": [
    "annpredicts = annmodel.predict_classes(X_test)"
   ]
  },
  {
   "cell_type": "code",
   "execution_count": 109,
   "metadata": {},
   "outputs": [
    {
     "name": "stdout",
     "output_type": "stream",
     "text": [
      "[[308   4]\n",
      " [ 85   2]]\n"
     ]
    }
   ],
   "source": [
    "print(confusion_matrix(y_test, annpredicts))"
   ]
  },
  {
   "cell_type": "code",
   "execution_count": 110,
   "metadata": {},
   "outputs": [
    {
     "name": "stdout",
     "output_type": "stream",
     "text": [
      "              precision    recall  f1-score   support\n",
      "\n",
      "           0       0.78      0.99      0.87       312\n",
      "           1       0.33      0.02      0.04        87\n",
      "\n",
      "    accuracy                           0.78       399\n",
      "   macro avg       0.56      0.51      0.46       399\n",
      "weighted avg       0.69      0.78      0.69       399\n",
      "\n"
     ]
    }
   ],
   "source": [
    "print(classification_report(y_test, annpredicts ))"
   ]
  },
  {
   "cell_type": "code",
   "execution_count": 111,
   "metadata": {},
   "outputs": [],
   "source": [
    "from xgboost import XGBClassifier"
   ]
  },
  {
   "cell_type": "code",
   "execution_count": 112,
   "metadata": {},
   "outputs": [],
   "source": [
    "xgbmodel = XGBClassifier()"
   ]
  },
  {
   "cell_type": "code",
   "execution_count": 113,
   "metadata": {},
   "outputs": [
    {
     "data": {
      "text/plain": [
       "XGBClassifier(base_score=0.5, booster='gbtree', colsample_bylevel=1,\n",
       "              colsample_bynode=1, colsample_bytree=1, gamma=0, gpu_id=-1,\n",
       "              importance_type='gain', interaction_constraints='',\n",
       "              learning_rate=0.300000012, max_delta_step=0, max_depth=6,\n",
       "              min_child_weight=1, missing=nan, monotone_constraints='()',\n",
       "              n_estimators=100, n_jobs=0, num_parallel_tree=1, random_state=0,\n",
       "              reg_alpha=0, reg_lambda=1, scale_pos_weight=1, subsample=1,\n",
       "              tree_method='exact', validate_parameters=1, verbosity=None)"
      ]
     },
     "execution_count": 113,
     "metadata": {},
     "output_type": "execute_result"
    }
   ],
   "source": [
    "xgbmodel.fit(X_train, y_train)"
   ]
  },
  {
   "cell_type": "code",
   "execution_count": 114,
   "metadata": {},
   "outputs": [],
   "source": [
    "xgbpredicts = xgbmodel.predict(X_test)"
   ]
  },
  {
   "cell_type": "code",
   "execution_count": 115,
   "metadata": {},
   "outputs": [
    {
     "name": "stdout",
     "output_type": "stream",
     "text": [
      "[[260  52]\n",
      " [ 59  28]]\n"
     ]
    }
   ],
   "source": [
    "print(confusion_matrix(y_test, xgbpredicts))"
   ]
  },
  {
   "cell_type": "code",
   "execution_count": 116,
   "metadata": {},
   "outputs": [
    {
     "name": "stdout",
     "output_type": "stream",
     "text": [
      "              precision    recall  f1-score   support\n",
      "\n",
      "           0       0.82      0.83      0.82       312\n",
      "           1       0.35      0.32      0.34        87\n",
      "\n",
      "    accuracy                           0.72       399\n",
      "   macro avg       0.58      0.58      0.58       399\n",
      "weighted avg       0.71      0.72      0.72       399\n",
      "\n"
     ]
    }
   ],
   "source": [
    "print(classification_report(y_test, xgbpredicts))"
   ]
  },
  {
   "cell_type": "code",
   "execution_count": null,
   "metadata": {},
   "outputs": [],
   "source": []
  }
 ],
 "metadata": {
  "kernelspec": {
   "display_name": "Python 3",
   "language": "python",
   "name": "python3"
  },
  "language_info": {
   "codemirror_mode": {
    "name": "ipython",
    "version": 3
   },
   "file_extension": ".py",
   "mimetype": "text/x-python",
   "name": "python",
   "nbconvert_exporter": "python",
   "pygments_lexer": "ipython3",
   "version": "3.8.3"
  }
 },
 "nbformat": 4,
 "nbformat_minor": 4
}
