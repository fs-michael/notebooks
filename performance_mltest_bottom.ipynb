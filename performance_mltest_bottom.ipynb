{
 "cells": [
  {
   "cell_type": "markdown",
   "metadata": {},
   "source": [
    "# Predicting Manager Performance on Limited Data using Machine Learning Classification Algorithms\n",
    "\n",
    "It is common for laypeople in organizations, having read about the power of Machine Learning in other contexts, to believe that it can be applied to the prediction of work related constructs such as job performance.  This example should help demonstrate why this is unlikely to be successful and not a good use of analytic resource. \n",
    "\n",
    "In this notebook, we apply various well known Machine Learning algorithms to a dataset of information about 600 managers in an organization to try to predict the performance of the managers.  The purpose of this is to demonstrate that prediction of work-related constructs such as job performance is usually poor across the board due to common inherent issues such as low sample size, poor class distribution and considerable noise caused by poor measurement on many of the constructs used to evaluate individuals."
   ]
  },
  {
   "cell_type": "markdown",
   "metadata": {},
   "source": [
    "First we load some immediate libraries.  We will load others later as we need them."
   ]
  },
  {
   "cell_type": "code",
   "execution_count": 1,
   "metadata": {},
   "outputs": [],
   "source": [
    "# set seeds for reproducibility\n",
    "from numpy.random import seed\n",
    "seed(123)\n",
    "from tensorflow.random import set_seed\n",
    "set_seed(123)\n",
    "\n",
    "# import what we need for now\n",
    "import matplotlib.pyplot as plt\n",
    "import pandas as pd\n",
    "import seaborn as sns\n",
    "import numpy as np\n",
    "%matplotlib inline"
   ]
  },
  {
   "cell_type": "markdown",
   "metadata": {},
   "source": [
    "Now we will load a dataset directly from Github provided by Keith McNulty.  Note McNulty provided this dataset as an example that could be used to learn explanatory analytic methods, not predictive methods.  This exercise will demonstrate the shortcoming of predictive methods on data of this nature."
   ]
  },
  {
   "cell_type": "code",
   "execution_count": 2,
   "metadata": {},
   "outputs": [],
   "source": [
    "manager_data = pd.read_csv('https://raw.githubusercontent.com/keithmcnulty/ebp_exercise/master/data.csv', \n",
    "                           index_col = 'employee_id')"
   ]
  },
  {
   "cell_type": "markdown",
   "metadata": {},
   "source": [
    "Now we will take a brief look at the data."
   ]
  },
  {
   "cell_type": "code",
   "execution_count": 3,
   "metadata": {},
   "outputs": [
    {
     "name": "stdout",
     "output_type": "stream",
     "text": [
      "<class 'pandas.core.frame.DataFrame'>\n",
      "Index: 571 entries, c4578853 to e81f635b\n",
      "Data columns (total 12 columns):\n",
      " #   Column             Non-Null Count  Dtype  \n",
      "---  ------             --------------  -----  \n",
      " 0   performance_group  571 non-null    object \n",
      " 1   yrs_employed       571 non-null    float64\n",
      " 2   manager_hire       571 non-null    object \n",
      " 3   test_score         571 non-null    int64  \n",
      " 4   group_size         571 non-null    int64  \n",
      " 5   concern_flag       571 non-null    object \n",
      " 6   mobile_flag        571 non-null    object \n",
      " 7   customers          571 non-null    int64  \n",
      " 8   high_hours_flag    571 non-null    object \n",
      " 9   transfers          571 non-null    int64  \n",
      " 10  reduced_schedule   571 non-null    object \n",
      " 11  city               571 non-null    object \n",
      "dtypes: float64(1), int64(4), object(7)\n",
      "memory usage: 58.0+ KB\n"
     ]
    }
   ],
   "source": [
    "manager_data.info()\n"
   ]
  },
  {
   "cell_type": "code",
   "execution_count": 4,
   "metadata": {},
   "outputs": [
    {
     "data": {
      "text/html": [
       "<div>\n",
       "<style scoped>\n",
       "    .dataframe tbody tr th:only-of-type {\n",
       "        vertical-align: middle;\n",
       "    }\n",
       "\n",
       "    .dataframe tbody tr th {\n",
       "        vertical-align: top;\n",
       "    }\n",
       "\n",
       "    .dataframe thead th {\n",
       "        text-align: right;\n",
       "    }\n",
       "</style>\n",
       "<table border=\"1\" class=\"dataframe\">\n",
       "  <thead>\n",
       "    <tr style=\"text-align: right;\">\n",
       "      <th></th>\n",
       "      <th>performance_group</th>\n",
       "      <th>yrs_employed</th>\n",
       "      <th>manager_hire</th>\n",
       "      <th>test_score</th>\n",
       "      <th>group_size</th>\n",
       "      <th>concern_flag</th>\n",
       "      <th>mobile_flag</th>\n",
       "      <th>customers</th>\n",
       "      <th>high_hours_flag</th>\n",
       "      <th>transfers</th>\n",
       "      <th>reduced_schedule</th>\n",
       "      <th>city</th>\n",
       "    </tr>\n",
       "    <tr>\n",
       "      <th>employee_id</th>\n",
       "      <th></th>\n",
       "      <th></th>\n",
       "      <th></th>\n",
       "      <th></th>\n",
       "      <th></th>\n",
       "      <th></th>\n",
       "      <th></th>\n",
       "      <th></th>\n",
       "      <th></th>\n",
       "      <th></th>\n",
       "      <th></th>\n",
       "      <th></th>\n",
       "    </tr>\n",
       "  </thead>\n",
       "  <tbody>\n",
       "    <tr>\n",
       "      <th>c4578853</th>\n",
       "      <td>Bottom</td>\n",
       "      <td>4.6</td>\n",
       "      <td>N</td>\n",
       "      <td>205</td>\n",
       "      <td>10</td>\n",
       "      <td>N</td>\n",
       "      <td>N</td>\n",
       "      <td>12</td>\n",
       "      <td>N</td>\n",
       "      <td>0</td>\n",
       "      <td>Y</td>\n",
       "      <td>San Francisco</td>\n",
       "    </tr>\n",
       "    <tr>\n",
       "      <th>a7d7afd6</th>\n",
       "      <td>Middle</td>\n",
       "      <td>5.3</td>\n",
       "      <td>N</td>\n",
       "      <td>227</td>\n",
       "      <td>14</td>\n",
       "      <td>N</td>\n",
       "      <td>Y</td>\n",
       "      <td>18</td>\n",
       "      <td>N</td>\n",
       "      <td>0</td>\n",
       "      <td>N</td>\n",
       "      <td>New York</td>\n",
       "    </tr>\n",
       "    <tr>\n",
       "      <th>272b93f1</th>\n",
       "      <td>Bottom</td>\n",
       "      <td>5.2</td>\n",
       "      <td>N</td>\n",
       "      <td>227</td>\n",
       "      <td>10</td>\n",
       "      <td>N</td>\n",
       "      <td>N</td>\n",
       "      <td>12</td>\n",
       "      <td>N</td>\n",
       "      <td>0</td>\n",
       "      <td>Y</td>\n",
       "      <td>Chicago</td>\n",
       "    </tr>\n",
       "    <tr>\n",
       "      <th>be8b6baa</th>\n",
       "      <td>Middle</td>\n",
       "      <td>4.9</td>\n",
       "      <td>N</td>\n",
       "      <td>273</td>\n",
       "      <td>19</td>\n",
       "      <td>N</td>\n",
       "      <td>N</td>\n",
       "      <td>26</td>\n",
       "      <td>Y</td>\n",
       "      <td>0</td>\n",
       "      <td>N</td>\n",
       "      <td>New York</td>\n",
       "    </tr>\n",
       "    <tr>\n",
       "      <th>a18ecc4e</th>\n",
       "      <td>Bottom</td>\n",
       "      <td>4.9</td>\n",
       "      <td>N</td>\n",
       "      <td>227</td>\n",
       "      <td>17</td>\n",
       "      <td>Y</td>\n",
       "      <td>N</td>\n",
       "      <td>26</td>\n",
       "      <td>Y</td>\n",
       "      <td>5</td>\n",
       "      <td>Y</td>\n",
       "      <td>Orlando</td>\n",
       "    </tr>\n",
       "  </tbody>\n",
       "</table>\n",
       "</div>"
      ],
      "text/plain": [
       "            performance_group  yrs_employed manager_hire  test_score  \\\n",
       "employee_id                                                            \n",
       "c4578853               Bottom           4.6            N         205   \n",
       "a7d7afd6               Middle           5.3            N         227   \n",
       "272b93f1               Bottom           5.2            N         227   \n",
       "be8b6baa               Middle           4.9            N         273   \n",
       "a18ecc4e               Bottom           4.9            N         227   \n",
       "\n",
       "             group_size concern_flag mobile_flag  customers high_hours_flag  \\\n",
       "employee_id                                                                   \n",
       "c4578853             10            N           N         12               N   \n",
       "a7d7afd6             14            N           Y         18               N   \n",
       "272b93f1             10            N           N         12               N   \n",
       "be8b6baa             19            N           N         26               Y   \n",
       "a18ecc4e             17            Y           N         26               Y   \n",
       "\n",
       "             transfers reduced_schedule           city  \n",
       "employee_id                                             \n",
       "c4578853             0                Y  San Francisco  \n",
       "a7d7afd6             0                N       New York  \n",
       "272b93f1             0                Y        Chicago  \n",
       "be8b6baa             0                N       New York  \n",
       "a18ecc4e             5                Y        Orlando  "
      ]
     },
     "execution_count": 4,
     "metadata": {},
     "output_type": "execute_result"
    }
   ],
   "source": [
    "manager_data.head()"
   ]
  },
  {
   "cell_type": "markdown",
   "metadata": {},
   "source": [
    "We notice that the data consists of 571 observations of managers, with numeric and categorical features, and is to some extent pre-processed.  If you would like to understand the features better, see [McNulty's repo](https://github.com/keithmcnulty/ebp_exercise).\n",
    "\n",
    "`performance_group` is the field that we will be trying to predict.  Let's take a quick look at its values."
   ]
  },
  {
   "cell_type": "code",
   "execution_count": 5,
   "metadata": {},
   "outputs": [
    {
     "data": {
      "text/plain": [
       "<AxesSubplot:xlabel='performance_group', ylabel='count'>"
      ]
     },
     "execution_count": 5,
     "metadata": {},
     "output_type": "execute_result"
    },
    {
     "data": {
      "image/png": "[encoded data removed]",
      "text/plain": [
       "<Figure size 432x288 with 1 Axes>"
      ]
     },
     "metadata": {
      "needs_background": "light"
     },
     "output_type": "display_data"
    }
   ],
   "source": [
    "sns.countplot(data = manager_data, x = \"performance_group\")"
   ]
  },
  {
   "cell_type": "markdown",
   "metadata": {},
   "source": [
    "Here we have three performance categories, and as is typical with human ratings, there is a considerable degree of central tendency bias with around two-thirds of all ratings taking the middle category.\n",
    "\n",
    "To keep our classification problem simple, let's choose to predict one category.  In any Machine Learning problem, class imbalance can cause a challenge, and so for this reason lets choose to predict the Bottom performers.  Approximately 20% of the sample will therefore be in the positive class, and about 80% will be in the negative class.  Algorithms will learn quickly that, all else being equal, predicting negative will give the best chance of success, therefore we will be interested in algorithm that are 'braver' and more successful in predicting the minority of positive classes.\n",
    "\n",
    "Let's transform our data so that our target is a simple binary classification of 'Bottom' or 'Not Bottom'."
   ]
  },
  {
   "cell_type": "code",
   "execution_count": 6,
   "metadata": {},
   "outputs": [],
   "source": [
    "## convert to binary bottom\n",
    "from sklearn.preprocessing import LabelBinarizer\n",
    "\n",
    "lb = LabelBinarizer()\n",
    "binary_bottom = pd.get_dummies(manager_data['performance_group'])['Bottom']\n",
    "binary_bottom.columns = 'Bottom'"
   ]
  },
  {
   "cell_type": "code",
   "execution_count": 7,
   "metadata": {},
   "outputs": [],
   "source": [
    "manager_data_bot = pd.concat([manager_data.drop('performance_group', axis = 1), binary_bottom], axis = 1)"
   ]
  },
  {
   "cell_type": "markdown",
   "metadata": {},
   "source": [
    "Now, a number of our input features are categorical, so we will need to transform these into dummy variables for learning purposes.  "
   ]
  },
  {
   "cell_type": "code",
   "execution_count": 8,
   "metadata": {},
   "outputs": [],
   "source": [
    "## get dummies\n",
    "dummy_vars = ['manager_hire', 'concern_flag', \n",
    "             'mobile_flag', 'high_hours_flag', \n",
    "             'reduced_schedule', 'city']\n",
    "\n",
    "dummies = pd.get_dummies(manager_data_bot[dummy_vars], \n",
    "                         drop_first=True)\n"
   ]
  },
  {
   "cell_type": "code",
   "execution_count": 9,
   "metadata": {},
   "outputs": [],
   "source": [
    "data = pd.concat([manager_data_bot.drop(dummy_vars, axis = 1), dummies], axis = 1)"
   ]
  },
  {
   "cell_type": "markdown",
   "metadata": {},
   "source": [
    "Now that we have transformed our data to prepare for the learning process, let's split it into an object for inputs and an object for outputs, and take a quick look at these."
   ]
  },
  {
   "cell_type": "code",
   "execution_count": 10,
   "metadata": {},
   "outputs": [
    {
     "data": {
      "text/html": [
       "<div>\n",
       "<style scoped>\n",
       "    .dataframe tbody tr th:only-of-type {\n",
       "        vertical-align: middle;\n",
       "    }\n",
       "\n",
       "    .dataframe tbody tr th {\n",
       "        vertical-align: top;\n",
       "    }\n",
       "\n",
       "    .dataframe thead th {\n",
       "        text-align: right;\n",
       "    }\n",
       "</style>\n",
       "<table border=\"1\" class=\"dataframe\">\n",
       "  <thead>\n",
       "    <tr style=\"text-align: right;\">\n",
       "      <th></th>\n",
       "      <th>yrs_employed</th>\n",
       "      <th>test_score</th>\n",
       "      <th>group_size</th>\n",
       "      <th>customers</th>\n",
       "      <th>transfers</th>\n",
       "      <th>manager_hire_Y</th>\n",
       "      <th>concern_flag_Y</th>\n",
       "      <th>mobile_flag_Y</th>\n",
       "      <th>high_hours_flag_Y</th>\n",
       "      <th>reduced_schedule_Y</th>\n",
       "      <th>city_Houston</th>\n",
       "      <th>city_New York</th>\n",
       "      <th>city_Orlando</th>\n",
       "      <th>city_San Francisco</th>\n",
       "      <th>city_Toronto</th>\n",
       "    </tr>\n",
       "    <tr>\n",
       "      <th>employee_id</th>\n",
       "      <th></th>\n",
       "      <th></th>\n",
       "      <th></th>\n",
       "      <th></th>\n",
       "      <th></th>\n",
       "      <th></th>\n",
       "      <th></th>\n",
       "      <th></th>\n",
       "      <th></th>\n",
       "      <th></th>\n",
       "      <th></th>\n",
       "      <th></th>\n",
       "      <th></th>\n",
       "      <th></th>\n",
       "      <th></th>\n",
       "    </tr>\n",
       "  </thead>\n",
       "  <tbody>\n",
       "    <tr>\n",
       "      <th>c4578853</th>\n",
       "      <td>4.6</td>\n",
       "      <td>205</td>\n",
       "      <td>10</td>\n",
       "      <td>12</td>\n",
       "      <td>0</td>\n",
       "      <td>0</td>\n",
       "      <td>0</td>\n",
       "      <td>0</td>\n",
       "      <td>0</td>\n",
       "      <td>1</td>\n",
       "      <td>0</td>\n",
       "      <td>0</td>\n",
       "      <td>0</td>\n",
       "      <td>1</td>\n",
       "      <td>0</td>\n",
       "    </tr>\n",
       "    <tr>\n",
       "      <th>a7d7afd6</th>\n",
       "      <td>5.3</td>\n",
       "      <td>227</td>\n",
       "      <td>14</td>\n",
       "      <td>18</td>\n",
       "      <td>0</td>\n",
       "      <td>0</td>\n",
       "      <td>0</td>\n",
       "      <td>1</td>\n",
       "      <td>0</td>\n",
       "      <td>0</td>\n",
       "      <td>0</td>\n",
       "      <td>1</td>\n",
       "      <td>0</td>\n",
       "      <td>0</td>\n",
       "      <td>0</td>\n",
       "    </tr>\n",
       "    <tr>\n",
       "      <th>272b93f1</th>\n",
       "      <td>5.2</td>\n",
       "      <td>227</td>\n",
       "      <td>10</td>\n",
       "      <td>12</td>\n",
       "      <td>0</td>\n",
       "      <td>0</td>\n",
       "      <td>0</td>\n",
       "      <td>0</td>\n",
       "      <td>0</td>\n",
       "      <td>1</td>\n",
       "      <td>0</td>\n",
       "      <td>0</td>\n",
       "      <td>0</td>\n",
       "      <td>0</td>\n",
       "      <td>0</td>\n",
       "    </tr>\n",
       "    <tr>\n",
       "      <th>be8b6baa</th>\n",
       "      <td>4.9</td>\n",
       "      <td>273</td>\n",
       "      <td>19</td>\n",
       "      <td>26</td>\n",
       "      <td>0</td>\n",
       "      <td>0</td>\n",
       "      <td>0</td>\n",
       "      <td>0</td>\n",
       "      <td>1</td>\n",
       "      <td>0</td>\n",
       "      <td>0</td>\n",
       "      <td>1</td>\n",
       "      <td>0</td>\n",
       "      <td>0</td>\n",
       "      <td>0</td>\n",
       "    </tr>\n",
       "    <tr>\n",
       "      <th>a18ecc4e</th>\n",
       "      <td>4.9</td>\n",
       "      <td>227</td>\n",
       "      <td>17</td>\n",
       "      <td>26</td>\n",
       "      <td>5</td>\n",
       "      <td>0</td>\n",
       "      <td>1</td>\n",
       "      <td>0</td>\n",
       "      <td>1</td>\n",
       "      <td>1</td>\n",
       "      <td>0</td>\n",
       "      <td>0</td>\n",
       "      <td>1</td>\n",
       "      <td>0</td>\n",
       "      <td>0</td>\n",
       "    </tr>\n",
       "  </tbody>\n",
       "</table>\n",
       "</div>"
      ],
      "text/plain": [
       "             yrs_employed  test_score  group_size  customers  transfers  \\\n",
       "employee_id                                                               \n",
       "c4578853              4.6         205          10         12          0   \n",
       "a7d7afd6              5.3         227          14         18          0   \n",
       "272b93f1              5.2         227          10         12          0   \n",
       "be8b6baa              4.9         273          19         26          0   \n",
       "a18ecc4e              4.9         227          17         26          5   \n",
       "\n",
       "             manager_hire_Y  concern_flag_Y  mobile_flag_Y  high_hours_flag_Y  \\\n",
       "employee_id                                                                     \n",
       "c4578853                  0               0              0                  0   \n",
       "a7d7afd6                  0               0              1                  0   \n",
       "272b93f1                  0               0              0                  0   \n",
       "be8b6baa                  0               0              0                  1   \n",
       "a18ecc4e                  0               1              0                  1   \n",
       "\n",
       "             reduced_schedule_Y  city_Houston  city_New York  city_Orlando  \\\n",
       "employee_id                                                                  \n",
       "c4578853                      1             0              0             0   \n",
       "a7d7afd6                      0             0              1             0   \n",
       "272b93f1                      1             0              0             0   \n",
       "be8b6baa                      0             0              1             0   \n",
       "a18ecc4e                      1             0              0             1   \n",
       "\n",
       "             city_San Francisco  city_Toronto  \n",
       "employee_id                                    \n",
       "c4578853                      1             0  \n",
       "a7d7afd6                      0             0  \n",
       "272b93f1                      0             0  \n",
       "be8b6baa                      0             0  \n",
       "a18ecc4e                      0             0  "
      ]
     },
     "execution_count": 10,
     "metadata": {},
     "output_type": "execute_result"
    }
   ],
   "source": [
    "X = data.drop('Bottom', axis = 1)\n",
    "y = data['Bottom']\n",
    "X.head()"
   ]
  },
  {
   "cell_type": "code",
   "execution_count": 11,
   "metadata": {},
   "outputs": [
    {
     "data": {
      "text/plain": [
       "employee_id\n",
       "c4578853    1\n",
       "a7d7afd6    0\n",
       "272b93f1    1\n",
       "be8b6baa    0\n",
       "a18ecc4e    1\n",
       "Name: Bottom, dtype: uint8"
      ]
     },
     "execution_count": 11,
     "metadata": {},
     "output_type": "execute_result"
    }
   ],
   "source": [
    "y.head()"
   ]
  },
  {
   "cell_type": "markdown",
   "metadata": {},
   "source": [
    "Our features and our target look good.  So we can proceed.  First we will try to use a simple logistic regression model to predict Bottom performers.\n",
    "\n",
    "## Logistic Regression Model\n",
    "\n",
    "For more on the mathematics underlying Logistic Regression, see Section 4.3 of [An Introduction to Statistical Learning](https://faculty.marshall.usc.edu/gareth-james/ISL/ISLR%20Seventh%20Printing.pdf).  \n",
    "\n",
    "We import our model, and divide our sets into training and testing sets using a 70/30 split."
   ]
  },
  {
   "cell_type": "code",
   "execution_count": 12,
   "metadata": {},
   "outputs": [],
   "source": [
    "from sklearn.linear_model import LogisticRegression\n",
    "from sklearn.model_selection import train_test_split"
   ]
  },
  {
   "cell_type": "code",
   "execution_count": 13,
   "metadata": {},
   "outputs": [],
   "source": [
    "X_train, X_test, y_train, y_test = train_test_split(X, y, test_size = 0.3, random_state = 101)"
   ]
  },
  {
   "cell_type": "markdown",
   "metadata": {},
   "source": [
    "Now we create and fit a model to the training data.  Note that for Logistic Regression model we do not need to worry about scaling the features."
   ]
  },
  {
   "cell_type": "code",
   "execution_count": 14,
   "metadata": {},
   "outputs": [],
   "source": [
    "model = LogisticRegression(max_iter=1000, random_state = 101)"
   ]
  },
  {
   "cell_type": "code",
   "execution_count": 15,
   "metadata": {},
   "outputs": [
    {
     "data": {
      "text/plain": [
       "LogisticRegression(max_iter=1000, random_state=101)"
      ]
     },
     "execution_count": 15,
     "metadata": {},
     "output_type": "execute_result"
    }
   ],
   "source": [
    "model.fit(X_train, y_train)"
   ]
  },
  {
   "cell_type": "markdown",
   "metadata": {},
   "source": [
    "Now we use our fitted model to predict the performance of the test set."
   ]
  },
  {
   "cell_type": "code",
   "execution_count": 16,
   "metadata": {},
   "outputs": [],
   "source": [
    "predicts = model.predict(X_test)"
   ]
  },
  {
   "cell_type": "markdown",
   "metadata": {},
   "source": [
    "We can now compare the predicted performance of the test set to the actual performance and generate a confusion matrix and a classification report."
   ]
  },
  {
   "cell_type": "code",
   "execution_count": 17,
   "metadata": {},
   "outputs": [],
   "source": [
    "import scikitplot as skplt"
   ]
  },
  {
   "cell_type": "code",
   "execution_count": 18,
   "metadata": {},
   "outputs": [
    {
     "data": {
      "text/plain": [
       "<AxesSubplot:title={'center':'Confusion Matrix'}, xlabel='Predicted label', ylabel='True label'>"
      ]
     },
     "execution_count": 18,
     "metadata": {},
     "output_type": "execute_result"
    },
    {
     "data": {
      "image/png": "[encoded data removed]",
      "text/plain": [
       "<Figure size 432x288 with 2 Axes>"
      ]
     },
     "metadata": {
      "needs_background": "light"
     },
     "output_type": "display_data"
    }
   ],
   "source": [
    "skplt.metrics.plot_confusion_matrix(y_test, predicts)"
   ]
  },
  {
   "cell_type": "markdown",
   "metadata": {},
   "source": [
    "As we can see, the model is very shy to predict anyone in the Bottom performance group. The right hand colum tells us that of the four people it did predict to be Bottom performance, two of them were Bottom performers.  However there were forty other Bottom performers that it did not predict correctly."
   ]
  },
  {
   "cell_type": "markdown",
   "metadata": {},
   "source": [
    "This is not great - but we have used the default threshold of a 0.5 probability to classify our positive class.  Could we achieve a better classification if we were to move this threshold downwards?\n",
    "\n",
    "First let's get our classification probabilities for the test set."
   ]
  },
  {
   "cell_type": "code",
   "execution_count": 19,
   "metadata": {},
   "outputs": [],
   "source": [
    "probs_y=model.predict_proba(X_test) "
   ]
  },
  {
   "cell_type": "markdown",
   "metadata": {},
   "source": [
    "Now let's look at the precision and recall curves."
   ]
  },
  {
   "cell_type": "code",
   "execution_count": 20,
   "metadata": {},
   "outputs": [
    {
     "data": {
      "text/plain": [
       "(0.0, 1.0)"
      ]
     },
     "execution_count": 20,
     "metadata": {},
     "output_type": "execute_result"
    },
    {
     "data": {
      "image/png": "[encoded data removed]",
      "text/plain": [
       "<Figure size 432x288 with 1 Axes>"
      ]
     },
     "metadata": {
      "needs_background": "light"
     },
     "output_type": "display_data"
    }
   ],
   "source": [
    "from sklearn.metrics import precision_recall_curve, auc\n",
    "precision, recall, thresholds = precision_recall_curve(y_test, probs_y[:, \n",
    "1]) \n",
    "   #retrieve probability of being 1(in second column of probs_y)\n",
    "pr_auc = auc(recall, precision)\n",
    "\n",
    "plt.title(\"Precision-Recall vs Threshold Chart\")\n",
    "plt.plot(thresholds, precision[: -1], \"b--\", label=\"Precision\")\n",
    "plt.plot(thresholds, recall[: -1], \"r--\", label=\"Recall\")\n",
    "plt.ylabel(\"Precision, Recall\")\n",
    "plt.xlabel(\"Threshold\")\n",
    "plt.legend(loc=\"lower left\")\n",
    "plt.ylim([0,1])"
   ]
  },
  {
   "cell_type": "markdown",
   "metadata": {},
   "source": [
    "It seems that we might do better on recall setting a substantially lower threshold.  Let's try 0.23."
   ]
  },
  {
   "cell_type": "code",
   "execution_count": 21,
   "metadata": {},
   "outputs": [],
   "source": [
    "predicts_new = probs_y[:,1] > 0.23"
   ]
  },
  {
   "cell_type": "code",
   "execution_count": 22,
   "metadata": {},
   "outputs": [
    {
     "data": {
      "text/plain": [
       "<AxesSubplot:title={'center':'Confusion Matrix'}, xlabel='Predicted label', ylabel='True label'>"
      ]
     },
     "execution_count": 22,
     "metadata": {},
     "output_type": "execute_result"
    },
    {
     "data": {
      "image/png": "[encoded data removed]",
      "text/plain": [
       "<Figure size 432x288 with 2 Axes>"
      ]
     },
     "metadata": {
      "needs_background": "light"
     },
     "output_type": "display_data"
    }
   ],
   "source": [
    "skplt.metrics.plot_confusion_matrix(y_test, predicts_new)"
   ]
  },
  {
   "cell_type": "code",
   "execution_count": 23,
   "metadata": {},
   "outputs": [
    {
     "name": "stdout",
     "output_type": "stream",
     "text": [
      "              precision    recall  f1-score   support\n",
      "\n",
      "           0       0.84      0.65      0.74       130\n",
      "           1       0.37      0.62      0.46        42\n",
      "\n",
      "    accuracy                           0.65       172\n",
      "   macro avg       0.60      0.64      0.60       172\n",
      "weighted avg       0.73      0.65      0.67       172\n",
      "\n"
     ]
    }
   ],
   "source": [
    "from sklearn.metrics import classification_report\n",
    "print(classification_report(y_test, predicts_new))"
   ]
  },
  {
   "cell_type": "markdown",
   "metadata": {},
   "source": [
    "Because of this adjustment we can now correctly identify 26 of our 42 Bottom performers in the test set.  However, in lowering the threshold we are also encouraging the model to be braver in selecting the positive class - moving from 4 to 71 positive predictions and resulting in 45 false positives. This trade-off is important.  So although the model predicts the majority of the positive class, this is only a minority of the positive predictions.  "
   ]
  },
  {
   "cell_type": "markdown",
   "metadata": {},
   "source": [
    "## Naive Bayes Classifier\n",
    "\n",
    "Current Naive Bayes implementations assume either normal, multinomial or Bernoulli distribituons.  Given our input features are both real and binary, none of these would apply, so we will skip this algorithm.  There has been some discussion on implementing a mixed normal/Bernoulli Naive Bayes Classifier in `scikit-learn` in the future, which would suit this model.\n"
   ]
  },
  {
   "cell_type": "markdown",
   "metadata": {},
   "source": [
    "## K-Nearest Neighbours \n",
    "\n",
    "We will now try to predict Bottom performers by using an algorithm that tries to identify people with similar features and predict on the basis of how many of those are Bottom performers.  For more on the mathematics underlying K Nearest Neighbours, see page 39 of An Introduction to Statistical Learning.\n",
    "\n",
    "For subsequent methods we will need to scale our input data, which we will do using a Standard Scaler."
   ]
  },
  {
   "cell_type": "code",
   "execution_count": 24,
   "metadata": {},
   "outputs": [],
   "source": [
    "from sklearn.preprocessing import StandardScaler\n",
    "\n",
    "scaler = StandardScaler()"
   ]
  },
  {
   "cell_type": "code",
   "execution_count": 25,
   "metadata": {},
   "outputs": [],
   "source": [
    "X_train = scaler.fit_transform(X_train)"
   ]
  },
  {
   "cell_type": "code",
   "execution_count": 26,
   "metadata": {},
   "outputs": [],
   "source": [
    "X_test = scaler.transform(X_test)"
   ]
  },
  {
   "cell_type": "markdown",
   "metadata": {},
   "source": [
    "First we will need to find the best value of K, and we can do this using the elbow method.  We try several consecutive values of K and calculate the prediction error for each."
   ]
  },
  {
   "cell_type": "code",
   "execution_count": 27,
   "metadata": {},
   "outputs": [],
   "source": [
    "from sklearn.neighbors import KNeighborsClassifier\n",
    "\n",
    "error_rate = []\n",
    "\n",
    "for i in range(1, 40):\n",
    "    modeli = KNeighborsClassifier(n_neighbors=i)\n",
    "    modeli.fit(X_train, y_train)\n",
    "    predicti = modeli.predict(X_test)\n",
    "    error_rate.append(np.mean(predicti != y_test))"
   ]
  },
  {
   "cell_type": "code",
   "execution_count": 28,
   "metadata": {},
   "outputs": [],
   "source": [
    "error_rate = pd.DataFrame(dict(k=range(1,40), err=error_rate))"
   ]
  },
  {
   "cell_type": "markdown",
   "metadata": {},
   "source": [
    "Now we plot the errors."
   ]
  },
  {
   "cell_type": "code",
   "execution_count": 29,
   "metadata": {},
   "outputs": [
    {
     "data": {
      "text/plain": [
       "<AxesSubplot:xlabel='k', ylabel='err'>"
      ]
     },
     "execution_count": 29,
     "metadata": {},
     "output_type": "execute_result"
    },
    {
     "data": {
      "image/png": "[encoded data removed]",
      "text/plain": [
       "<Figure size 432x288 with 1 Axes>"
      ]
     },
     "metadata": {
      "needs_background": "light"
     },
     "output_type": "display_data"
    }
   ],
   "source": [
    "sns.lineplot(data = error_rate, x = 'k', y = 'err')"
   ]
  },
  {
   "cell_type": "markdown",
   "metadata": {},
   "source": [
    "k = 6 looks like an early error minimizer."
   ]
  },
  {
   "cell_type": "code",
   "execution_count": 30,
   "metadata": {},
   "outputs": [],
   "source": [
    "knnmodel = KNeighborsClassifier(n_neighbors=6)"
   ]
  },
  {
   "cell_type": "markdown",
   "metadata": {},
   "source": [
    "Now we can fit and measure our model as before."
   ]
  },
  {
   "cell_type": "code",
   "execution_count": 31,
   "metadata": {},
   "outputs": [
    {
     "data": {
      "text/plain": [
       "KNeighborsClassifier(n_neighbors=6)"
      ]
     },
     "execution_count": 31,
     "metadata": {},
     "output_type": "execute_result"
    }
   ],
   "source": [
    "knnmodel.fit(X_train, y_train)"
   ]
  },
  {
   "cell_type": "code",
   "execution_count": 32,
   "metadata": {},
   "outputs": [],
   "source": [
    "knnpredicts = knnmodel.predict(X_test)"
   ]
  },
  {
   "cell_type": "code",
   "execution_count": 33,
   "metadata": {},
   "outputs": [
    {
     "data": {
      "text/plain": [
       "<AxesSubplot:title={'center':'Confusion Matrix'}, xlabel='Predicted label', ylabel='True label'>"
      ]
     },
     "execution_count": 33,
     "metadata": {},
     "output_type": "execute_result"
    },
    {
     "data": {
      "image/png": "[encoded data removed]",
      "text/plain": [
       "<Figure size 432x288 with 2 Axes>"
      ]
     },
     "metadata": {
      "needs_background": "light"
     },
     "output_type": "display_data"
    }
   ],
   "source": [
    "skplt.metrics.plot_confusion_matrix(y_test, knnpredicts)"
   ]
  },
  {
   "cell_type": "markdown",
   "metadata": {},
   "source": [
    "This model is shy to predict positive. It suggests nine people as Bottom performers and is accurate for more than half.  It still misses 37 of them though."
   ]
  },
  {
   "cell_type": "code",
   "execution_count": 34,
   "metadata": {},
   "outputs": [
    {
     "name": "stdout",
     "output_type": "stream",
     "text": [
      "              precision    recall  f1-score   support\n",
      "\n",
      "           0       0.77      0.97      0.86       130\n",
      "           1       0.56      0.12      0.20        42\n",
      "\n",
      "    accuracy                           0.76       172\n",
      "   macro avg       0.66      0.54      0.53       172\n",
      "weighted avg       0.72      0.76      0.70       172\n",
      "\n"
     ]
    }
   ],
   "source": [
    "print(classification_report(y_test, knnpredicts))"
   ]
  },
  {
   "cell_type": "markdown",
   "metadata": {},
   "source": [
    "## Basic Decision Tree\n",
    "\n",
    "We will now apply a Decision Tree model to our data.  For more on Decision Trees see Section 8.1 of An Introduction to Statistical Learning.\n",
    "\n",
    "We will take an identical approach by setting up our model, fitting it and measuring the results."
   ]
  },
  {
   "cell_type": "code",
   "execution_count": 35,
   "metadata": {},
   "outputs": [],
   "source": [
    "from sklearn.tree import DecisionTreeClassifier\n",
    "treemodel = DecisionTreeClassifier(random_state=101)"
   ]
  },
  {
   "cell_type": "code",
   "execution_count": 36,
   "metadata": {},
   "outputs": [
    {
     "data": {
      "text/plain": [
       "DecisionTreeClassifier(random_state=101)"
      ]
     },
     "execution_count": 36,
     "metadata": {},
     "output_type": "execute_result"
    }
   ],
   "source": [
    "treemodel.fit(X_train, y_train)"
   ]
  },
  {
   "cell_type": "code",
   "execution_count": 37,
   "metadata": {},
   "outputs": [],
   "source": [
    "treepredicts = treemodel.predict(X_test)"
   ]
  },
  {
   "cell_type": "code",
   "execution_count": 38,
   "metadata": {},
   "outputs": [
    {
     "data": {
      "text/plain": [
       "<AxesSubplot:title={'center':'Confusion Matrix'}, xlabel='Predicted label', ylabel='True label'>"
      ]
     },
     "execution_count": 38,
     "metadata": {},
     "output_type": "execute_result"
    },
    {
     "data": {
      "image/png": "[encoded data removed]",
      "text/plain": [
       "<Figure size 432x288 with 2 Axes>"
      ]
     },
     "metadata": {
      "needs_background": "light"
     },
     "output_type": "display_data"
    }
   ],
   "source": [
    "skplt.metrics.plot_confusion_matrix(y_test, treepredicts)"
   ]
  },
  {
   "cell_type": "markdown",
   "metadata": {},
   "source": [
    "This model is much happier to classify positive classes, identifying 44 individuals as being potential Bottom performers.  However it is accurate in about a third of them.  If you are trying to achieve a better trade off between true positives and false positives, this model may be better than our tweaked logistic model."
   ]
  },
  {
   "cell_type": "code",
   "execution_count": 39,
   "metadata": {
    "scrolled": true
   },
   "outputs": [
    {
     "name": "stdout",
     "output_type": "stream",
     "text": [
      "              precision    recall  f1-score   support\n",
      "\n",
      "           0       0.79      0.78      0.78       130\n",
      "           1       0.34      0.36      0.35        42\n",
      "\n",
      "    accuracy                           0.67       172\n",
      "   macro avg       0.56      0.57      0.57       172\n",
      "weighted avg       0.68      0.67      0.68       172\n",
      "\n"
     ]
    }
   ],
   "source": [
    "print(classification_report(y_test, treepredicts))"
   ]
  },
  {
   "cell_type": "markdown",
   "metadata": {},
   "source": [
    "## Random Forest \n",
    "\n",
    "Random Forest algorithms construct numerous decision trees and output the mode of the classes from each.  For more information, see Section 8.2 of An Introduction to Statistical Learning. \n",
    "\n",
    "Given the imbalance in this dataset, splitting it into too many trees will only serve to increase the bias to classify inputs as negative.  We could try with a single tree."
   ]
  },
  {
   "cell_type": "code",
   "execution_count": 40,
   "metadata": {},
   "outputs": [],
   "source": [
    "from sklearn.ensemble import RandomForestClassifier\n",
    "forestmodel = RandomForestClassifier(n_estimators = 1, random_state = 101)"
   ]
  },
  {
   "cell_type": "code",
   "execution_count": 41,
   "metadata": {},
   "outputs": [
    {
     "data": {
      "text/plain": [
       "RandomForestClassifier(n_estimators=1, random_state=101)"
      ]
     },
     "execution_count": 41,
     "metadata": {},
     "output_type": "execute_result"
    }
   ],
   "source": [
    "forestmodel.fit(X_train, y_train)"
   ]
  },
  {
   "cell_type": "code",
   "execution_count": 42,
   "metadata": {},
   "outputs": [],
   "source": [
    "forestpredicts = forestmodel.predict(X_test)"
   ]
  },
  {
   "cell_type": "code",
   "execution_count": 43,
   "metadata": {},
   "outputs": [
    {
     "data": {
      "text/plain": [
       "<AxesSubplot:title={'center':'Confusion Matrix'}, xlabel='Predicted label', ylabel='True label'>"
      ]
     },
     "execution_count": 43,
     "metadata": {},
     "output_type": "execute_result"
    },
    {
     "data": {
      "image/png": "[encoded data removed]",
      "text/plain": [
       "<Figure size 432x288 with 2 Axes>"
      ]
     },
     "metadata": {
      "needs_background": "light"
     },
     "output_type": "display_data"
    }
   ],
   "source": [
    "skplt.metrics.plot_confusion_matrix(y_test, forestpredicts)"
   ]
  },
  {
   "cell_type": "markdown",
   "metadata": {},
   "source": [
    "This is slightly more shy to predict bottom performers compared to our Basic Decision Tree, but is marginally more accurate overall.  If you experiment with greater numbers of trees you will find that it starts to bias heavily towards negative classification."
   ]
  },
  {
   "cell_type": "code",
   "execution_count": 44,
   "metadata": {},
   "outputs": [
    {
     "name": "stdout",
     "output_type": "stream",
     "text": [
      "              precision    recall  f1-score   support\n",
      "\n",
      "           0       0.79      0.83      0.81       130\n",
      "           1       0.37      0.31      0.34        42\n",
      "\n",
      "    accuracy                           0.70       172\n",
      "   macro avg       0.58      0.57      0.57       172\n",
      "weighted avg       0.69      0.70      0.69       172\n",
      "\n"
     ]
    }
   ],
   "source": [
    "print((classification_report(y_test, forestpredicts)))"
   ]
  },
  {
   "cell_type": "markdown",
   "metadata": {},
   "source": [
    "This is a better performing algorithm than the Basic Decision Tree, finding more true positives and fewer false positives."
   ]
  },
  {
   "cell_type": "markdown",
   "metadata": {},
   "source": [
    "## Support Vector Machines\n",
    "\n",
    "We will now try a different type of classifier which uses linear algebra to plot each input in n-dimensional space and tries to find a 'separating hyperplane' to use to classify the data.  You can read more about this in Chapter 9 of An Introduction to Statistical Learning.\n",
    "\n",
    "The best performance I could find from the Support Vector Classifier was where it used a 5th degree polynomial as its kernel.  "
   ]
  },
  {
   "cell_type": "code",
   "execution_count": 45,
   "metadata": {},
   "outputs": [],
   "source": [
    "from sklearn.svm import SVC"
   ]
  },
  {
   "cell_type": "code",
   "execution_count": 46,
   "metadata": {},
   "outputs": [],
   "source": [
    "svmmodel = SVC(kernel='poly', degree = 5, random_state=101)"
   ]
  },
  {
   "cell_type": "code",
   "execution_count": 47,
   "metadata": {},
   "outputs": [
    {
     "data": {
      "text/plain": [
       "SVC(degree=5, kernel='poly', random_state=101)"
      ]
     },
     "execution_count": 47,
     "metadata": {},
     "output_type": "execute_result"
    }
   ],
   "source": [
    "svmmodel.fit(X_train, y_train)"
   ]
  },
  {
   "cell_type": "code",
   "execution_count": 48,
   "metadata": {},
   "outputs": [],
   "source": [
    "svmpredicts = svmmodel.predict(X_test)"
   ]
  },
  {
   "cell_type": "code",
   "execution_count": 49,
   "metadata": {},
   "outputs": [
    {
     "data": {
      "text/plain": [
       "<AxesSubplot:title={'center':'Confusion Matrix'}, xlabel='Predicted label', ylabel='True label'>"
      ]
     },
     "execution_count": 49,
     "metadata": {},
     "output_type": "execute_result"
    },
    {
     "data": {
      "image/png": "[encoded data removed]",
      "text/plain": [
       "<Figure size 432x288 with 2 Axes>"
      ]
     },
     "metadata": {
      "needs_background": "light"
     },
     "output_type": "display_data"
    }
   ],
   "source": [
    "skplt.metrics.plot_confusion_matrix(y_test, svmpredicts)"
   ]
  },
  {
   "cell_type": "markdown",
   "metadata": {},
   "source": [
    "The model selected 17 Bottom performers and was correct in more than half.  Overall this performance is not as good as the prior Random Forest classifier, if your objective is the identification of Bottom performers."
   ]
  },
  {
   "cell_type": "code",
   "execution_count": 50,
   "metadata": {},
   "outputs": [
    {
     "name": "stdout",
     "output_type": "stream",
     "text": [
      "              precision    recall  f1-score   support\n",
      "\n",
      "           0       0.79      0.94      0.86       130\n",
      "           1       0.53      0.21      0.31        42\n",
      "\n",
      "    accuracy                           0.76       172\n",
      "   macro avg       0.66      0.58      0.58       172\n",
      "weighted avg       0.72      0.76      0.72       172\n",
      "\n"
     ]
    }
   ],
   "source": [
    "print((classification_report(y_test, svmpredicts)))"
   ]
  },
  {
   "cell_type": "markdown",
   "metadata": {},
   "source": [
    "## Simple Artificial Neural Network\n",
    "\n",
    "An Artificial Neural Network is really suited to complex learning tasks with large amounts of data.  It is very unlikely to be effective on such a small and chaotic dataset and will be very dificult not to overfit.  Nevertheless I include it here for reference.  \n",
    "\n",
    "We use Tensorflow and Keras to train a simple Neural Network with an one hidden Dense layer, using fairly standard relu activation functions.  I didn't spend time parameter tuning here, as it wouldn't be worth the effort."
   ]
  },
  {
   "cell_type": "code",
   "execution_count": 51,
   "metadata": {},
   "outputs": [],
   "source": [
    "import tensorflow as tf\n",
    "from tensorflow.keras.models import Sequential\n",
    "from tensorflow.keras.layers import Dense, Activation"
   ]
  },
  {
   "cell_type": "code",
   "execution_count": 52,
   "metadata": {},
   "outputs": [],
   "source": [
    "annmodel = Sequential()\n",
    "\n",
    "# input layer\n",
    "annmodel.add(Dense(15, activation='relu'))\n",
    "\n",
    "\n",
    "# hidden layer\n",
    "annmodel.add(Dense(5, activation='relu'))\n",
    "\n",
    "\n",
    "# output layer\n",
    "annmodel.add(Dense(units=1, activation='relu'))\n",
    "\n",
    "# Compile model\n",
    "annmodel.compile(loss='binary_crossentropy', optimizer='adam')"
   ]
  },
  {
   "cell_type": "code",
   "execution_count": 53,
   "metadata": {},
   "outputs": [
    {
     "name": "stdout",
     "output_type": "stream",
     "text": [
      "Epoch 1/25\n",
      "13/13 [==============================] - 0s 23ms/step - loss: 1.7452 - val_loss: 2.0037\n",
      "Epoch 2/25\n",
      "13/13 [==============================] - 0s 7ms/step - loss: 1.4576 - val_loss: 1.8006\n",
      "Epoch 3/25\n",
      "13/13 [==============================] - 0s 7ms/step - loss: 1.3265 - val_loss: 1.7084\n",
      "Epoch 4/25\n",
      "13/13 [==============================] - 0s 6ms/step - loss: 1.2866 - val_loss: 1.6218\n",
      "Epoch 5/25\n",
      "13/13 [==============================] - 0s 8ms/step - loss: 1.2363 - val_loss: 1.5811\n",
      "Epoch 6/25\n",
      "13/13 [==============================] - 0s 7ms/step - loss: 1.2154 - val_loss: 1.5572\n",
      "Epoch 7/25\n",
      "13/13 [==============================] - 0s 7ms/step - loss: 1.2027 - val_loss: 1.5479\n",
      "Epoch 8/25\n",
      "13/13 [==============================] - 0s 7ms/step - loss: 1.1935 - val_loss: 1.5408\n",
      "Epoch 9/25\n",
      "13/13 [==============================] - 0s 7ms/step - loss: 1.1579 - val_loss: 1.4791\n",
      "Epoch 10/25\n",
      "13/13 [==============================] - 0s 6ms/step - loss: 1.0623 - val_loss: 1.2849\n",
      "Epoch 11/25\n",
      "13/13 [==============================] - 0s 7ms/step - loss: 1.0059 - val_loss: 1.1913\n",
      "Epoch 12/25\n",
      "13/13 [==============================] - 0s 8ms/step - loss: 0.8894 - val_loss: 0.9681\n",
      "Epoch 13/25\n",
      "13/13 [==============================] - 0s 7ms/step - loss: 0.8179 - val_loss: 0.8955\n",
      "Epoch 14/25\n",
      "13/13 [==============================] - 0s 8ms/step - loss: 0.8071 - val_loss: 0.8870\n",
      "Epoch 15/25\n",
      "13/13 [==============================] - 0s 7ms/step - loss: 0.8002 - val_loss: 0.8874\n",
      "Epoch 16/25\n",
      "13/13 [==============================] - 0s 7ms/step - loss: 0.7958 - val_loss: 0.8895\n",
      "Epoch 17/25\n",
      "13/13 [==============================] - 0s 7ms/step - loss: 0.7926 - val_loss: 0.8909\n",
      "Epoch 18/25\n",
      "13/13 [==============================] - 0s 6ms/step - loss: 0.7884 - val_loss: 0.8377\n",
      "Epoch 19/25\n",
      "13/13 [==============================] - 0s 7ms/step - loss: 0.7851 - val_loss: 0.8312\n",
      "Epoch 20/25\n",
      "13/13 [==============================] - 0s 8ms/step - loss: 0.7820 - val_loss: 0.8394\n",
      "Epoch 21/25\n",
      "13/13 [==============================] - 0s 4ms/step - loss: 0.7790 - val_loss: 0.8671\n",
      "Epoch 22/25\n",
      "13/13 [==============================] - 0s 4ms/step - loss: 0.7763 - val_loss: 0.9050\n",
      "Epoch 23/25\n",
      "13/13 [==============================] - 0s 5ms/step - loss: 0.7734 - val_loss: 0.9055\n",
      "Epoch 24/25\n",
      "13/13 [==============================] - 0s 5ms/step - loss: 0.7708 - val_loss: 0.9083\n",
      "Epoch 25/25\n",
      "13/13 [==============================] - 0s 4ms/step - loss: 0.7685 - val_loss: 0.8559\n"
     ]
    },
    {
     "data": {
      "text/plain": [
       "<tensorflow.python.keras.callbacks.History at 0x7f77385cefd0>"
      ]
     },
     "execution_count": 53,
     "metadata": {},
     "output_type": "execute_result"
    }
   ],
   "source": [
    "annmodel.fit(x=X_train, \n",
    "          y=y_train, \n",
    "          epochs=25,\n",
    "          validation_data=(X_test, y_test) \n",
    "          )"
   ]
  },
  {
   "cell_type": "code",
   "execution_count": 54,
   "metadata": {},
   "outputs": [
    {
     "name": "stdout",
     "output_type": "stream",
     "text": [
      "WARNING:tensorflow:From <ipython-input-54-b3d3e546df17>:1: Sequential.predict_classes (from tensorflow.python.keras.engine.sequential) is deprecated and will be removed after 2021-01-01.\n",
      "Instructions for updating:\n",
      "Please use instead:* `np.argmax(model.predict(x), axis=-1)`,   if your model does multi-class classification   (e.g. if it uses a `softmax` last-layer activation).* `(model.predict(x) > 0.5).astype(\"int32\")`,   if your model does binary classification   (e.g. if it uses a `sigmoid` last-layer activation).\n"
     ]
    }
   ],
   "source": [
    "annpredicts = annmodel.predict_classes(X_test)"
   ]
  },
  {
   "cell_type": "code",
   "execution_count": 55,
   "metadata": {},
   "outputs": [
    {
     "data": {
      "text/plain": [
       "<AxesSubplot:title={'center':'Confusion Matrix'}, xlabel='Predicted label', ylabel='True label'>"
      ]
     },
     "execution_count": 55,
     "metadata": {},
     "output_type": "execute_result"
    },
    {
     "data": {
      "image/png": "[encoded data removed]",
      "text/plain": [
       "<Figure size 432x288 with 2 Axes>"
      ]
     },
     "metadata": {
      "needs_background": "light"
     },
     "output_type": "display_data"
    }
   ],
   "source": [
    "skplt.metrics.plot_confusion_matrix(y_test, annpredicts)"
   ]
  },
  {
   "cell_type": "markdown",
   "metadata": {},
   "source": [
    "As expected, this did not perform well, and most likely overfit our data."
   ]
  },
  {
   "cell_type": "code",
   "execution_count": 56,
   "metadata": {},
   "outputs": [
    {
     "name": "stdout",
     "output_type": "stream",
     "text": [
      "              precision    recall  f1-score   support\n",
      "\n",
      "           0       0.77      0.92      0.84       130\n",
      "           1       0.38      0.14      0.21        42\n",
      "\n",
      "    accuracy                           0.73       172\n",
      "   macro avg       0.57      0.53      0.52       172\n",
      "weighted avg       0.67      0.73      0.68       172\n",
      "\n"
     ]
    }
   ],
   "source": [
    "print(classification_report(y_test, annpredicts ))"
   ]
  },
  {
   "cell_type": "markdown",
   "metadata": {},
   "source": [
    "## XGBoost\n",
    "\n",
    "Finally, we will use an XGBoost classifier which is a fairly novel, gradient boosted improvement on Decision Tree classifiers which has gotten a lot of attention and positive review from the ML community.  "
   ]
  },
  {
   "cell_type": "code",
   "execution_count": 57,
   "metadata": {},
   "outputs": [],
   "source": [
    "from xgboost import XGBClassifier"
   ]
  },
  {
   "cell_type": "code",
   "execution_count": 58,
   "metadata": {},
   "outputs": [],
   "source": [
    "xgbmodel = XGBClassifier(n_estimators = 1, random_state = 101)"
   ]
  },
  {
   "cell_type": "code",
   "execution_count": 59,
   "metadata": {},
   "outputs": [
    {
     "data": {
      "text/plain": [
       "XGBClassifier(base_score=0.5, booster='gbtree', colsample_bylevel=1,\n",
       "              colsample_bynode=1, colsample_bytree=1, gamma=0, gpu_id=-1,\n",
       "              importance_type='gain', interaction_constraints='',\n",
       "              learning_rate=0.300000012, max_delta_step=0, max_depth=6,\n",
       "              min_child_weight=1, missing=nan, monotone_constraints='()',\n",
       "              n_estimators=1, n_jobs=0, num_parallel_tree=1, random_state=101,\n",
       "              reg_alpha=0, reg_lambda=1, scale_pos_weight=1, subsample=1,\n",
       "              tree_method='exact', validate_parameters=1, verbosity=None)"
      ]
     },
     "execution_count": 59,
     "metadata": {},
     "output_type": "execute_result"
    }
   ],
   "source": [
    "xgbmodel.fit(X_train, y_train)"
   ]
  },
  {
   "cell_type": "code",
   "execution_count": 60,
   "metadata": {},
   "outputs": [],
   "source": [
    "xgbpredicts = xgbmodel.predict(X_test)"
   ]
  },
  {
   "cell_type": "code",
   "execution_count": 61,
   "metadata": {},
   "outputs": [
    {
     "data": {
      "text/plain": [
       "<AxesSubplot:title={'center':'Confusion Matrix'}, xlabel='Predicted label', ylabel='True label'>"
      ]
     },
     "execution_count": 61,
     "metadata": {},
     "output_type": "execute_result"
    },
    {
     "data": {
      "image/png": "[encoded data removed]",
      "text/plain": [
       "<Figure size 432x288 with 2 Axes>"
      ]
     },
     "metadata": {
      "needs_background": "light"
     },
     "output_type": "display_data"
    }
   ],
   "source": [
    "skplt.metrics.plot_confusion_matrix(y_test, xgbpredicts)"
   ]
  },
  {
   "cell_type": "code",
   "execution_count": 62,
   "metadata": {},
   "outputs": [
    {
     "name": "stdout",
     "output_type": "stream",
     "text": [
      "              precision    recall  f1-score   support\n",
      "\n",
      "           0       0.79      0.92      0.85       130\n",
      "           1       0.52      0.26      0.35        42\n",
      "\n",
      "    accuracy                           0.76       172\n",
      "   macro avg       0.66      0.59      0.60       172\n",
      "weighted avg       0.73      0.76      0.73       172\n",
      "\n"
     ]
    }
   ],
   "source": [
    "print(classification_report(y_test, xgbpredicts))"
   ]
  },
  {
   "cell_type": "markdown",
   "metadata": {},
   "source": [
    "This is is not as good as our Basic Decision Tree model in identifying Bottom performers.  It may benefit from some parameter tuning.  Let's  give that a go. \n",
    "\n",
    "We will do a 5-fold cross-validation on a range of parameters.  This will choose the best estimator from all those tested.  Given our interest in recall throughout this work, we will ask it to select the best estimator based on recall."
   ]
  },
  {
   "cell_type": "code",
   "execution_count": 63,
   "metadata": {},
   "outputs": [],
   "source": [
    "from scipy import stats \n",
    "from sklearn.model_selection import RandomizedSearchCV, KFold\n",
    "param_dist = {'n_estimators': stats.randint(1, 100),\n",
    "              'learning_rate': stats.uniform(0.01, 0.6),\n",
    "              'subsample': stats.uniform(0.3, 0.9),\n",
    "              'max_depth': [3, 4, 5, 6, 7, 8, 9],\n",
    "              'colsample_bytree': stats.uniform(0.5, 0.9),\n",
    "              'min_child_weight': [1, 2, 3, 4]\n",
    "             }\n",
    "\n",
    "kfold_5 = KFold(shuffle = True, random_state=101)\n",
    "\n",
    "clf = RandomizedSearchCV(xgbmodel, param_distributions = param_dist, \n",
    "                         n_iter = 25, scoring = 'recall', error_score = 0, \n",
    "                         verbose = 3, n_jobs = -1, cv = kfold_5, random_state = 101)"
   ]
  },
  {
   "cell_type": "code",
   "execution_count": 64,
   "metadata": {},
   "outputs": [
    {
     "name": "stdout",
     "output_type": "stream",
     "text": [
      "Fitting 5 folds for each of 25 candidates, totalling 125 fits\n"
     ]
    },
    {
     "name": "stderr",
     "output_type": "stream",
     "text": [
      "[Parallel(n_jobs=-1)]: Using backend LokyBackend with 2 concurrent workers.\n",
      "[Parallel(n_jobs=-1)]: Done  87 tasks      | elapsed:    1.3s\n",
      "[Parallel(n_jobs=-1)]: Done 125 out of 125 | elapsed:    1.5s finished\n"
     ]
    },
    {
     "data": {
      "text/plain": [
       "RandomizedSearchCV(cv=KFold(n_splits=5, random_state=101, shuffle=True),\n",
       "                   error_score=0,\n",
       "                   estimator=XGBClassifier(base_score=0.5, booster='gbtree',\n",
       "                                           colsample_bylevel=1,\n",
       "                                           colsample_bynode=1,\n",
       "                                           colsample_bytree=1, gamma=0,\n",
       "                                           gpu_id=-1, importance_type='gain',\n",
       "                                           interaction_constraints='',\n",
       "                                           learning_rate=0.300000012,\n",
       "                                           max_delta_step=0, max_depth=6,\n",
       "                                           min_child_weight=1, missing=na...\n",
       "                   param_distributions={'colsample_bytree': <scipy.stats._distn_infrastructure.rv_frozen object at 0x7f770db6da60>,\n",
       "                                        'learning_rate': <scipy.stats._distn_infrastructure.rv_frozen object at 0x7f770db6d550>,\n",
       "                                        'max_depth': [3, 4, 5, 6, 7, 8, 9],\n",
       "                                        'min_child_weight': [1, 2, 3, 4],\n",
       "                                        'n_estimators': <scipy.stats._distn_infrastructure.rv_frozen object at 0x7f770db6d250>,\n",
       "                                        'subsample': <scipy.stats._distn_infrastructure.rv_frozen object at 0x7f770db6d760>},\n",
       "                   random_state=101, scoring='recall', verbose=3)"
      ]
     },
     "execution_count": 64,
     "metadata": {},
     "output_type": "execute_result"
    }
   ],
   "source": [
    "clf.fit(X_train, y_train)"
   ]
  },
  {
   "cell_type": "code",
   "execution_count": 65,
   "metadata": {},
   "outputs": [],
   "source": [
    "clfpredicts = clf.predict(X_test)"
   ]
  },
  {
   "cell_type": "code",
   "execution_count": 66,
   "metadata": {},
   "outputs": [
    {
     "data": {
      "text/plain": [
       "<AxesSubplot:title={'center':'Confusion Matrix'}, xlabel='Predicted label', ylabel='True label'>"
      ]
     },
     "execution_count": 66,
     "metadata": {},
     "output_type": "execute_result"
    },
    {
     "data": {
      "image/png": "[encoded data removed]",
      "text/plain": [
       "<Figure size 432x288 with 2 Axes>"
      ]
     },
     "metadata": {
      "needs_background": "light"
     },
     "output_type": "display_data"
    }
   ],
   "source": [
    "skplt.metrics.plot_confusion_matrix(y_test, clfpredicts)"
   ]
  },
  {
   "cell_type": "code",
   "execution_count": 67,
   "metadata": {},
   "outputs": [
    {
     "name": "stdout",
     "output_type": "stream",
     "text": [
      "              precision    recall  f1-score   support\n",
      "\n",
      "           0       0.80      0.83      0.82       130\n",
      "           1       0.41      0.36      0.38        42\n",
      "\n",
      "    accuracy                           0.72       172\n",
      "   macro avg       0.60      0.59      0.60       172\n",
      "weighted avg       0.70      0.72      0.71       172\n",
      "\n"
     ]
    }
   ],
   "source": [
    "print(classification_report(y_test, clfpredicts))"
   ]
  },
  {
   "cell_type": "markdown",
   "metadata": {},
   "source": [
    "This generates a model that is able to find the same number of Bottom performers as our Decision Tree model, but at less cost of false positives, so is a better model overall."
   ]
  },
  {
   "cell_type": "markdown",
   "metadata": {},
   "source": [
    "\n",
    "## Conclusions\n",
    "\n",
    "Of course, it's not the algorithms that are bad, it's the data. In general data on individuals in a workplace setting suffers from a number of issues, not least small samples (by ML standards) and class imbalance.  Our best performing algorithm (depending on your point of view) were either:\n",
    "\n",
    "1.  A logistic regression model with a low threshold, which identified the majority of our Bottom performers but at the expense of a high number of false positives.\n",
    "\n",
    "2.  A cross validated XGBoost model which was able to find 15 of the 42 Bottom performers in a test set of 172 individuals, with a substantially lower number of false positives compared to the Logistic Regression model.\n",
    "\n",
    "None of these models are likely to garner trust in their predictions, as they are a long way away from the desired metrics for a predictive model that could be trusted in practice.  "
   ]
  }
 ],
 "metadata": {
  "kernelspec": {
   "display_name": "Python 3",
   "language": "python",
   "name": "python3"
  },
  "language_info": {
   "codemirror_mode": {
    "name": "ipython",
    "version": 3
   },
   "file_extension": ".py",
   "mimetype": "text/x-python",
   "name": "python",
   "nbconvert_exporter": "python",
   "pygments_lexer": "ipython3",
   "version": "3.8.3"
  }
 },
 "nbformat": 4,
 "nbformat_minor": 4
}
