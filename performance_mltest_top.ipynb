{
 "cells": [
  {
   "cell_type": "code",
   "execution_count": 4,
   "metadata": {},
   "outputs": [],
   "source": [
    "import matplotlib.pyplot as plt\n",
    "import pandas as pd\n",
    "import seaborn as sns\n",
    "import numpy as np\n",
    "%matplotlib inline"
   ]
  },
  {
   "cell_type": "code",
   "execution_count": 5,
   "metadata": {},
   "outputs": [],
   "source": [
    "manager_data = pd.read_csv('https://raw.githubusercontent.com/keithmcnulty/ebp_exercise/master/data.csv', index_col = 'employee_id')"
   ]
  },
  {
   "cell_type": "code",
   "execution_count": 6,
   "metadata": {},
   "outputs": [
    {
     "name": "stdout",
     "output_type": "stream",
     "text": [
      "<class 'pandas.core.frame.DataFrame'>\n",
      "Index: 571 entries, c4578853 to e81f635b\n",
      "Data columns (total 12 columns):\n",
      " #   Column             Non-Null Count  Dtype  \n",
      "---  ------             --------------  -----  \n",
      " 0   performance_group  571 non-null    object \n",
      " 1   yrs_employed       571 non-null    float64\n",
      " 2   manager_hire       571 non-null    object \n",
      " 3   test_score         571 non-null    int64  \n",
      " 4   group_size         571 non-null    int64  \n",
      " 5   concern_flag       571 non-null    object \n",
      " 6   mobile_flag        571 non-null    object \n",
      " 7   customers          571 non-null    int64  \n",
      " 8   high_hours_flag    571 non-null    object \n",
      " 9   transfers          571 non-null    int64  \n",
      " 10  reduced_schedule   571 non-null    object \n",
      " 11  city               571 non-null    object \n",
      "dtypes: float64(1), int64(4), object(7)\n",
      "memory usage: 58.0+ KB\n"
     ]
    }
   ],
   "source": [
    "manager_data.info()\n"
   ]
  },
  {
   "cell_type": "code",
   "execution_count": 7,
   "metadata": {},
   "outputs": [
    {
     "data": {
      "text/html": [
       "<div>\n",
       "<style scoped>\n",
       "    .dataframe tbody tr th:only-of-type {\n",
       "        vertical-align: middle;\n",
       "    }\n",
       "\n",
       "    .dataframe tbody tr th {\n",
       "        vertical-align: top;\n",
       "    }\n",
       "\n",
       "    .dataframe thead th {\n",
       "        text-align: right;\n",
       "    }\n",
       "</style>\n",
       "<table border=\"1\" class=\"dataframe\">\n",
       "  <thead>\n",
       "    <tr style=\"text-align: right;\">\n",
       "      <th></th>\n",
       "      <th>performance_group</th>\n",
       "      <th>yrs_employed</th>\n",
       "      <th>manager_hire</th>\n",
       "      <th>test_score</th>\n",
       "      <th>group_size</th>\n",
       "      <th>concern_flag</th>\n",
       "      <th>mobile_flag</th>\n",
       "      <th>customers</th>\n",
       "      <th>high_hours_flag</th>\n",
       "      <th>transfers</th>\n",
       "      <th>reduced_schedule</th>\n",
       "      <th>city</th>\n",
       "    </tr>\n",
       "    <tr>\n",
       "      <th>employee_id</th>\n",
       "      <th></th>\n",
       "      <th></th>\n",
       "      <th></th>\n",
       "      <th></th>\n",
       "      <th></th>\n",
       "      <th></th>\n",
       "      <th></th>\n",
       "      <th></th>\n",
       "      <th></th>\n",
       "      <th></th>\n",
       "      <th></th>\n",
       "      <th></th>\n",
       "    </tr>\n",
       "  </thead>\n",
       "  <tbody>\n",
       "    <tr>\n",
       "      <th>c4578853</th>\n",
       "      <td>Bottom</td>\n",
       "      <td>4.6</td>\n",
       "      <td>N</td>\n",
       "      <td>205</td>\n",
       "      <td>10</td>\n",
       "      <td>N</td>\n",
       "      <td>N</td>\n",
       "      <td>12</td>\n",
       "      <td>N</td>\n",
       "      <td>0</td>\n",
       "      <td>Y</td>\n",
       "      <td>San Francisco</td>\n",
       "    </tr>\n",
       "    <tr>\n",
       "      <th>a7d7afd6</th>\n",
       "      <td>Middle</td>\n",
       "      <td>5.3</td>\n",
       "      <td>N</td>\n",
       "      <td>227</td>\n",
       "      <td>14</td>\n",
       "      <td>N</td>\n",
       "      <td>Y</td>\n",
       "      <td>18</td>\n",
       "      <td>N</td>\n",
       "      <td>0</td>\n",
       "      <td>N</td>\n",
       "      <td>New York</td>\n",
       "    </tr>\n",
       "    <tr>\n",
       "      <th>272b93f1</th>\n",
       "      <td>Bottom</td>\n",
       "      <td>5.2</td>\n",
       "      <td>N</td>\n",
       "      <td>227</td>\n",
       "      <td>10</td>\n",
       "      <td>N</td>\n",
       "      <td>N</td>\n",
       "      <td>12</td>\n",
       "      <td>N</td>\n",
       "      <td>0</td>\n",
       "      <td>Y</td>\n",
       "      <td>Chicago</td>\n",
       "    </tr>\n",
       "    <tr>\n",
       "      <th>be8b6baa</th>\n",
       "      <td>Middle</td>\n",
       "      <td>4.9</td>\n",
       "      <td>N</td>\n",
       "      <td>273</td>\n",
       "      <td>19</td>\n",
       "      <td>N</td>\n",
       "      <td>N</td>\n",
       "      <td>26</td>\n",
       "      <td>Y</td>\n",
       "      <td>0</td>\n",
       "      <td>N</td>\n",
       "      <td>New York</td>\n",
       "    </tr>\n",
       "    <tr>\n",
       "      <th>a18ecc4e</th>\n",
       "      <td>Bottom</td>\n",
       "      <td>4.9</td>\n",
       "      <td>N</td>\n",
       "      <td>227</td>\n",
       "      <td>17</td>\n",
       "      <td>Y</td>\n",
       "      <td>N</td>\n",
       "      <td>26</td>\n",
       "      <td>Y</td>\n",
       "      <td>5</td>\n",
       "      <td>Y</td>\n",
       "      <td>Orlando</td>\n",
       "    </tr>\n",
       "  </tbody>\n",
       "</table>\n",
       "</div>"
      ],
      "text/plain": [
       "            performance_group  yrs_employed manager_hire  test_score  \\\n",
       "employee_id                                                            \n",
       "c4578853               Bottom           4.6            N         205   \n",
       "a7d7afd6               Middle           5.3            N         227   \n",
       "272b93f1               Bottom           5.2            N         227   \n",
       "be8b6baa               Middle           4.9            N         273   \n",
       "a18ecc4e               Bottom           4.9            N         227   \n",
       "\n",
       "             group_size concern_flag mobile_flag  customers high_hours_flag  \\\n",
       "employee_id                                                                   \n",
       "c4578853             10            N           N         12               N   \n",
       "a7d7afd6             14            N           Y         18               N   \n",
       "272b93f1             10            N           N         12               N   \n",
       "be8b6baa             19            N           N         26               Y   \n",
       "a18ecc4e             17            Y           N         26               Y   \n",
       "\n",
       "             transfers reduced_schedule           city  \n",
       "employee_id                                             \n",
       "c4578853             0                Y  San Francisco  \n",
       "a7d7afd6             0                N       New York  \n",
       "272b93f1             0                Y        Chicago  \n",
       "be8b6baa             0                N       New York  \n",
       "a18ecc4e             5                Y        Orlando  "
      ]
     },
     "execution_count": 7,
     "metadata": {},
     "output_type": "execute_result"
    }
   ],
   "source": [
    "manager_data.head()"
   ]
  },
  {
   "cell_type": "code",
   "execution_count": 8,
   "metadata": {},
   "outputs": [
    {
     "data": {
      "text/plain": [
       "<AxesSubplot:xlabel='performance_group', ylabel='count'>"
      ]
     },
     "execution_count": 8,
     "metadata": {},
     "output_type": "execute_result"
    },
    {
     "data": {
      "image/png": "[encoded data removed]",
      "text/plain": [
       "<Figure size 432x288 with 1 Axes>"
      ]
     },
     "metadata": {
      "needs_background": "light"
     },
     "output_type": "display_data"
    }
   ],
   "source": [
    "sns.countplot(data = manager_data, x = \"performance_group\")"
   ]
  },
  {
   "cell_type": "code",
   "execution_count": 9,
   "metadata": {},
   "outputs": [],
   "source": [
    "## convert to binary bottom\n",
    "binary_top = pd.get_dummies(manager_data['performance_group'])['Top']\n",
    "binary_top.columnsumns = 'Top'"
   ]
  },
  {
   "cell_type": "code",
   "execution_count": 10,
   "metadata": {},
   "outputs": [],
   "source": [
    "manager_data_top = pd.concat([manager_data.drop('performance_group', axis = 1), binary_top], axis = 1)"
   ]
  },
  {
   "cell_type": "code",
   "execution_count": 11,
   "metadata": {},
   "outputs": [],
   "source": [
    "## get dummies\n",
    "dummy_vars = ['manager_hire', 'concern_flag', \n",
    "             'mobile_flag', 'high_hours_flag', \n",
    "             'reduced_schedule', 'city']\n",
    "\n",
    "dummies = pd.get_dummies(manager_data_top[dummy_vars], \n",
    "                         drop_first=True)\n"
   ]
  },
  {
   "cell_type": "code",
   "execution_count": 12,
   "metadata": {},
   "outputs": [],
   "source": [
    "data = pd.concat([manager_data_top.drop(dummy_vars, axis = 1), dummies], axis = 1)"
   ]
  },
  {
   "cell_type": "code",
   "execution_count": 13,
   "metadata": {},
   "outputs": [],
   "source": [
    "X = data.drop('Top', axis = 1)\n",
    "y = data['Top']"
   ]
  },
  {
   "cell_type": "code",
   "execution_count": 14,
   "metadata": {},
   "outputs": [],
   "source": [
    "from sklearn.linear_model import LogisticRegression\n",
    "from sklearn.model_selection import train_test_split"
   ]
  },
  {
   "cell_type": "code",
   "execution_count": 15,
   "metadata": {},
   "outputs": [],
   "source": [
    "X_train, X_test, y_train, y_test = train_test_split(X, y, test_size = 0.3, random_state = 101)"
   ]
  },
  {
   "cell_type": "code",
   "execution_count": 16,
   "metadata": {},
   "outputs": [],
   "source": [
    "model = LogisticRegression(max_iter=1000)"
   ]
  },
  {
   "cell_type": "code",
   "execution_count": 17,
   "metadata": {},
   "outputs": [
    {
     "data": {
      "text/html": [
       "<div>\n",
       "<style scoped>\n",
       "    .dataframe tbody tr th:only-of-type {\n",
       "        vertical-align: middle;\n",
       "    }\n",
       "\n",
       "    .dataframe tbody tr th {\n",
       "        vertical-align: top;\n",
       "    }\n",
       "\n",
       "    .dataframe thead th {\n",
       "        text-align: right;\n",
       "    }\n",
       "</style>\n",
       "<table border=\"1\" class=\"dataframe\">\n",
       "  <thead>\n",
       "    <tr style=\"text-align: right;\">\n",
       "      <th></th>\n",
       "      <th>yrs_employed</th>\n",
       "      <th>test_score</th>\n",
       "      <th>group_size</th>\n",
       "      <th>customers</th>\n",
       "      <th>transfers</th>\n",
       "      <th>manager_hire_Y</th>\n",
       "      <th>concern_flag_Y</th>\n",
       "      <th>mobile_flag_Y</th>\n",
       "      <th>high_hours_flag_Y</th>\n",
       "      <th>reduced_schedule_Y</th>\n",
       "      <th>city_Houston</th>\n",
       "      <th>city_New York</th>\n",
       "      <th>city_Orlando</th>\n",
       "      <th>city_San Francisco</th>\n",
       "      <th>city_Toronto</th>\n",
       "    </tr>\n",
       "    <tr>\n",
       "      <th>employee_id</th>\n",
       "      <th></th>\n",
       "      <th></th>\n",
       "      <th></th>\n",
       "      <th></th>\n",
       "      <th></th>\n",
       "      <th></th>\n",
       "      <th></th>\n",
       "      <th></th>\n",
       "      <th></th>\n",
       "      <th></th>\n",
       "      <th></th>\n",
       "      <th></th>\n",
       "      <th></th>\n",
       "      <th></th>\n",
       "      <th></th>\n",
       "    </tr>\n",
       "  </thead>\n",
       "  <tbody>\n",
       "    <tr>\n",
       "      <th>07eb21de</th>\n",
       "      <td>5.3</td>\n",
       "      <td>205</td>\n",
       "      <td>11</td>\n",
       "      <td>28</td>\n",
       "      <td>3</td>\n",
       "      <td>0</td>\n",
       "      <td>1</td>\n",
       "      <td>1</td>\n",
       "      <td>1</td>\n",
       "      <td>0</td>\n",
       "      <td>0</td>\n",
       "      <td>0</td>\n",
       "      <td>1</td>\n",
       "      <td>0</td>\n",
       "      <td>0</td>\n",
       "    </tr>\n",
       "    <tr>\n",
       "      <th>01462797</th>\n",
       "      <td>4.6</td>\n",
       "      <td>167</td>\n",
       "      <td>17</td>\n",
       "      <td>26</td>\n",
       "      <td>3</td>\n",
       "      <td>0</td>\n",
       "      <td>0</td>\n",
       "      <td>0</td>\n",
       "      <td>1</td>\n",
       "      <td>0</td>\n",
       "      <td>0</td>\n",
       "      <td>1</td>\n",
       "      <td>0</td>\n",
       "      <td>0</td>\n",
       "      <td>0</td>\n",
       "    </tr>\n",
       "    <tr>\n",
       "      <th>15995879</th>\n",
       "      <td>4.6</td>\n",
       "      <td>273</td>\n",
       "      <td>13</td>\n",
       "      <td>22</td>\n",
       "      <td>0</td>\n",
       "      <td>0</td>\n",
       "      <td>0</td>\n",
       "      <td>0</td>\n",
       "      <td>0</td>\n",
       "      <td>0</td>\n",
       "      <td>0</td>\n",
       "      <td>1</td>\n",
       "      <td>0</td>\n",
       "      <td>0</td>\n",
       "      <td>0</td>\n",
       "    </tr>\n",
       "    <tr>\n",
       "      <th>c848bdb0</th>\n",
       "      <td>4.8</td>\n",
       "      <td>227</td>\n",
       "      <td>13</td>\n",
       "      <td>22</td>\n",
       "      <td>5</td>\n",
       "      <td>0</td>\n",
       "      <td>0</td>\n",
       "      <td>0</td>\n",
       "      <td>0</td>\n",
       "      <td>0</td>\n",
       "      <td>0</td>\n",
       "      <td>0</td>\n",
       "      <td>0</td>\n",
       "      <td>0</td>\n",
       "      <td>1</td>\n",
       "    </tr>\n",
       "    <tr>\n",
       "      <th>4d593345</th>\n",
       "      <td>4.5</td>\n",
       "      <td>136</td>\n",
       "      <td>6</td>\n",
       "      <td>22</td>\n",
       "      <td>0</td>\n",
       "      <td>0</td>\n",
       "      <td>0</td>\n",
       "      <td>0</td>\n",
       "      <td>0</td>\n",
       "      <td>0</td>\n",
       "      <td>0</td>\n",
       "      <td>0</td>\n",
       "      <td>0</td>\n",
       "      <td>0</td>\n",
       "      <td>1</td>\n",
       "    </tr>\n",
       "    <tr>\n",
       "      <th>...</th>\n",
       "      <td>...</td>\n",
       "      <td>...</td>\n",
       "      <td>...</td>\n",
       "      <td>...</td>\n",
       "      <td>...</td>\n",
       "      <td>...</td>\n",
       "      <td>...</td>\n",
       "      <td>...</td>\n",
       "      <td>...</td>\n",
       "      <td>...</td>\n",
       "      <td>...</td>\n",
       "      <td>...</td>\n",
       "      <td>...</td>\n",
       "      <td>...</td>\n",
       "      <td>...</td>\n",
       "    </tr>\n",
       "    <tr>\n",
       "      <th>3474567e</th>\n",
       "      <td>5.0</td>\n",
       "      <td>280</td>\n",
       "      <td>15</td>\n",
       "      <td>24</td>\n",
       "      <td>0</td>\n",
       "      <td>0</td>\n",
       "      <td>0</td>\n",
       "      <td>0</td>\n",
       "      <td>1</td>\n",
       "      <td>0</td>\n",
       "      <td>0</td>\n",
       "      <td>1</td>\n",
       "      <td>0</td>\n",
       "      <td>0</td>\n",
       "      <td>0</td>\n",
       "    </tr>\n",
       "    <tr>\n",
       "      <th>72a59199</th>\n",
       "      <td>5.0</td>\n",
       "      <td>379</td>\n",
       "      <td>10</td>\n",
       "      <td>30</td>\n",
       "      <td>0</td>\n",
       "      <td>0</td>\n",
       "      <td>0</td>\n",
       "      <td>1</td>\n",
       "      <td>1</td>\n",
       "      <td>0</td>\n",
       "      <td>0</td>\n",
       "      <td>1</td>\n",
       "      <td>0</td>\n",
       "      <td>0</td>\n",
       "      <td>0</td>\n",
       "    </tr>\n",
       "    <tr>\n",
       "      <th>bd135c46</th>\n",
       "      <td>4.4</td>\n",
       "      <td>303</td>\n",
       "      <td>11</td>\n",
       "      <td>20</td>\n",
       "      <td>2</td>\n",
       "      <td>0</td>\n",
       "      <td>0</td>\n",
       "      <td>1</td>\n",
       "      <td>0</td>\n",
       "      <td>1</td>\n",
       "      <td>0</td>\n",
       "      <td>1</td>\n",
       "      <td>0</td>\n",
       "      <td>0</td>\n",
       "      <td>0</td>\n",
       "    </tr>\n",
       "    <tr>\n",
       "      <th>6fe8b754</th>\n",
       "      <td>4.9</td>\n",
       "      <td>197</td>\n",
       "      <td>15</td>\n",
       "      <td>20</td>\n",
       "      <td>0</td>\n",
       "      <td>0</td>\n",
       "      <td>1</td>\n",
       "      <td>0</td>\n",
       "      <td>1</td>\n",
       "      <td>0</td>\n",
       "      <td>0</td>\n",
       "      <td>0</td>\n",
       "      <td>0</td>\n",
       "      <td>0</td>\n",
       "      <td>1</td>\n",
       "    </tr>\n",
       "    <tr>\n",
       "      <th>0b5637d7</th>\n",
       "      <td>4.1</td>\n",
       "      <td>212</td>\n",
       "      <td>19</td>\n",
       "      <td>24</td>\n",
       "      <td>0</td>\n",
       "      <td>0</td>\n",
       "      <td>0</td>\n",
       "      <td>1</td>\n",
       "      <td>1</td>\n",
       "      <td>0</td>\n",
       "      <td>0</td>\n",
       "      <td>1</td>\n",
       "      <td>0</td>\n",
       "      <td>0</td>\n",
       "      <td>0</td>\n",
       "    </tr>\n",
       "  </tbody>\n",
       "</table>\n",
       "<p>399 rows × 15 columns</p>\n",
       "</div>"
      ],
      "text/plain": [
       "             yrs_employed  test_score  group_size  customers  transfers  \\\n",
       "employee_id                                                               \n",
       "07eb21de              5.3         205          11         28          3   \n",
       "01462797              4.6         167          17         26          3   \n",
       "15995879              4.6         273          13         22          0   \n",
       "c848bdb0              4.8         227          13         22          5   \n",
       "4d593345              4.5         136           6         22          0   \n",
       "...                   ...         ...         ...        ...        ...   \n",
       "3474567e              5.0         280          15         24          0   \n",
       "72a59199              5.0         379          10         30          0   \n",
       "bd135c46              4.4         303          11         20          2   \n",
       "6fe8b754              4.9         197          15         20          0   \n",
       "0b5637d7              4.1         212          19         24          0   \n",
       "\n",
       "             manager_hire_Y  concern_flag_Y  mobile_flag_Y  high_hours_flag_Y  \\\n",
       "employee_id                                                                     \n",
       "07eb21de                  0               1              1                  1   \n",
       "01462797                  0               0              0                  1   \n",
       "15995879                  0               0              0                  0   \n",
       "c848bdb0                  0               0              0                  0   \n",
       "4d593345                  0               0              0                  0   \n",
       "...                     ...             ...            ...                ...   \n",
       "3474567e                  0               0              0                  1   \n",
       "72a59199                  0               0              1                  1   \n",
       "bd135c46                  0               0              1                  0   \n",
       "6fe8b754                  0               1              0                  1   \n",
       "0b5637d7                  0               0              1                  1   \n",
       "\n",
       "             reduced_schedule_Y  city_Houston  city_New York  city_Orlando  \\\n",
       "employee_id                                                                  \n",
       "07eb21de                      0             0              0             1   \n",
       "01462797                      0             0              1             0   \n",
       "15995879                      0             0              1             0   \n",
       "c848bdb0                      0             0              0             0   \n",
       "4d593345                      0             0              0             0   \n",
       "...                         ...           ...            ...           ...   \n",
       "3474567e                      0             0              1             0   \n",
       "72a59199                      0             0              1             0   \n",
       "bd135c46                      1             0              1             0   \n",
       "6fe8b754                      0             0              0             0   \n",
       "0b5637d7                      0             0              1             0   \n",
       "\n",
       "             city_San Francisco  city_Toronto  \n",
       "employee_id                                    \n",
       "07eb21de                      0             0  \n",
       "01462797                      0             0  \n",
       "15995879                      0             0  \n",
       "c848bdb0                      0             1  \n",
       "4d593345                      0             1  \n",
       "...                         ...           ...  \n",
       "3474567e                      0             0  \n",
       "72a59199                      0             0  \n",
       "bd135c46                      0             0  \n",
       "6fe8b754                      0             1  \n",
       "0b5637d7                      0             0  \n",
       "\n",
       "[399 rows x 15 columns]"
      ]
     },
     "execution_count": 17,
     "metadata": {},
     "output_type": "execute_result"
    }
   ],
   "source": [
    "X_train"
   ]
  },
  {
   "cell_type": "code",
   "execution_count": 18,
   "metadata": {},
   "outputs": [
    {
     "data": {
      "text/plain": [
       "employee_id\n",
       "07eb21de    0\n",
       "01462797    0\n",
       "15995879    0\n",
       "c848bdb0    0\n",
       "4d593345    0\n",
       "           ..\n",
       "3474567e    0\n",
       "72a59199    0\n",
       "bd135c46    0\n",
       "6fe8b754    1\n",
       "0b5637d7    0\n",
       "Name: Top, Length: 399, dtype: uint8"
      ]
     },
     "execution_count": 18,
     "metadata": {},
     "output_type": "execute_result"
    }
   ],
   "source": [
    "y_train"
   ]
  },
  {
   "cell_type": "code",
   "execution_count": 19,
   "metadata": {},
   "outputs": [
    {
     "data": {
      "text/plain": [
       "LogisticRegression(max_iter=1000)"
      ]
     },
     "execution_count": 19,
     "metadata": {},
     "output_type": "execute_result"
    }
   ],
   "source": [
    "model.fit(X_train, y_train)"
   ]
  },
  {
   "cell_type": "code",
   "execution_count": 20,
   "metadata": {},
   "outputs": [
    {
     "data": {
      "text/plain": [
       "array([[-0.97032143,  0.00445689,  0.11842462,  0.02184203, -0.25699179,\n",
       "        -0.72127776,  0.1083604 ,  0.12694938,  0.79745237,  0.12447703,\n",
       "        -0.81985398,  0.21762434,  0.040361  ,  0.41045521, -0.07866001]])"
      ]
     },
     "execution_count": 20,
     "metadata": {},
     "output_type": "execute_result"
    }
   ],
   "source": [
    "model.coef_"
   ]
  },
  {
   "cell_type": "code",
   "execution_count": 21,
   "metadata": {},
   "outputs": [],
   "source": [
    "predicts = model.predict(X_test)"
   ]
  },
  {
   "cell_type": "code",
   "execution_count": 22,
   "metadata": {},
   "outputs": [],
   "source": [
    "from sklearn.metrics import confusion_matrix, classification_report"
   ]
  },
  {
   "cell_type": "code",
   "execution_count": 23,
   "metadata": {},
   "outputs": [
    {
     "name": "stdout",
     "output_type": "stream",
     "text": [
      "[[153   2]\n",
      " [ 17   0]]\n"
     ]
    }
   ],
   "source": [
    "print(confusion_matrix(y_test, predicts))"
   ]
  },
  {
   "cell_type": "code",
   "execution_count": 24,
   "metadata": {},
   "outputs": [
    {
     "name": "stdout",
     "output_type": "stream",
     "text": [
      "              precision    recall  f1-score   support\n",
      "\n",
      "           0       0.90      0.99      0.94       155\n",
      "           1       0.00      0.00      0.00        17\n",
      "\n",
      "    accuracy                           0.89       172\n",
      "   macro avg       0.45      0.49      0.47       172\n",
      "weighted avg       0.81      0.89      0.85       172\n",
      "\n"
     ]
    }
   ],
   "source": [
    "print(classification_report(y_test, predicts))"
   ]
  },
  {
   "cell_type": "code",
   "execution_count": 25,
   "metadata": {},
   "outputs": [],
   "source": [
    "## scale for subsequent models\n",
    "\n",
    "from sklearn.preprocessing import StandardScaler\n",
    "\n",
    "scaler = StandardScaler()"
   ]
  },
  {
   "cell_type": "code",
   "execution_count": 26,
   "metadata": {},
   "outputs": [],
   "source": [
    "X_train = scaler.fit_transform(X_train)"
   ]
  },
  {
   "cell_type": "code",
   "execution_count": 27,
   "metadata": {},
   "outputs": [],
   "source": [
    "X_test = scaler.transform(X_test)"
   ]
  },
  {
   "cell_type": "code",
   "execution_count": 28,
   "metadata": {},
   "outputs": [],
   "source": [
    "from sklearn.neighbors import KNeighborsClassifier\n",
    "\n",
    "error_rate = []\n",
    "\n",
    "for i in range(1, 40):\n",
    "    modeli = KNeighborsClassifier(n_neighbors=i)\n",
    "    modeli.fit(X_train, y_train)\n",
    "    predicti = modeli.predict(X_test)\n",
    "    error_rate.append(np.mean(predicti != y_test))"
   ]
  },
  {
   "cell_type": "code",
   "execution_count": 29,
   "metadata": {},
   "outputs": [],
   "source": [
    "error_rate = pd.DataFrame(dict(k=range(1,40), err=error_rate))"
   ]
  },
  {
   "cell_type": "code",
   "execution_count": 30,
   "metadata": {},
   "outputs": [
    {
     "data": {
      "text/plain": [
       "<AxesSubplot:xlabel='k', ylabel='err'>"
      ]
     },
     "execution_count": 30,
     "metadata": {},
     "output_type": "execute_result"
    },
    {
     "data": {
      "image/png": "[encoded data removed]",
      "text/plain": [
       "<Figure size 432x288 with 1 Axes>"
      ]
     },
     "metadata": {
      "needs_background": "light"
     },
     "output_type": "display_data"
    }
   ],
   "source": [
    "sns.lineplot(data = error_rate, x = 'k', y = 'err')"
   ]
  },
  {
   "cell_type": "code",
   "execution_count": 31,
   "metadata": {},
   "outputs": [],
   "source": [
    "## k = 2 looks best\n",
    "\n",
    "knnmodel = KNeighborsClassifier(n_neighbors=2)"
   ]
  },
  {
   "cell_type": "code",
   "execution_count": 32,
   "metadata": {},
   "outputs": [
    {
     "data": {
      "text/plain": [
       "KNeighborsClassifier(n_neighbors=2)"
      ]
     },
     "execution_count": 32,
     "metadata": {},
     "output_type": "execute_result"
    }
   ],
   "source": [
    "knnmodel.fit(X_train, y_train)"
   ]
  },
  {
   "cell_type": "code",
   "execution_count": 33,
   "metadata": {},
   "outputs": [],
   "source": [
    "knnpredicts = knnmodel.predict(X_test)"
   ]
  },
  {
   "cell_type": "code",
   "execution_count": 34,
   "metadata": {},
   "outputs": [
    {
     "name": "stdout",
     "output_type": "stream",
     "text": [
      "[[149   6]\n",
      " [ 16   1]]\n"
     ]
    }
   ],
   "source": [
    "print(confusion_matrix(y_test, knnpredicts))"
   ]
  },
  {
   "cell_type": "code",
   "execution_count": 35,
   "metadata": {},
   "outputs": [
    {
     "name": "stdout",
     "output_type": "stream",
     "text": [
      "              precision    recall  f1-score   support\n",
      "\n",
      "           0       0.90      0.96      0.93       155\n",
      "           1       0.14      0.06      0.08        17\n",
      "\n",
      "    accuracy                           0.87       172\n",
      "   macro avg       0.52      0.51      0.51       172\n",
      "weighted avg       0.83      0.87      0.85       172\n",
      "\n"
     ]
    }
   ],
   "source": [
    "print(classification_report(y_test, knnpredicts))"
   ]
  },
  {
   "cell_type": "code",
   "execution_count": 36,
   "metadata": {},
   "outputs": [],
   "source": [
    "## Basic decision Tree\n",
    "\n",
    "from sklearn.tree import DecisionTreeClassifier\n",
    "treemodel = DecisionTreeClassifier()"
   ]
  },
  {
   "cell_type": "code",
   "execution_count": 37,
   "metadata": {},
   "outputs": [
    {
     "data": {
      "text/plain": [
       "DecisionTreeClassifier()"
      ]
     },
     "execution_count": 37,
     "metadata": {},
     "output_type": "execute_result"
    }
   ],
   "source": [
    "treemodel.fit(X_train, y_train)"
   ]
  },
  {
   "cell_type": "code",
   "execution_count": 38,
   "metadata": {},
   "outputs": [],
   "source": [
    "treepredicts = treemodel.predict(X_test)"
   ]
  },
  {
   "cell_type": "code",
   "execution_count": 39,
   "metadata": {},
   "outputs": [
    {
     "name": "stdout",
     "output_type": "stream",
     "text": [
      "[[130  25]\n",
      " [ 16   1]]\n"
     ]
    }
   ],
   "source": [
    "print(confusion_matrix(y_test, treepredicts))"
   ]
  },
  {
   "cell_type": "code",
   "execution_count": 40,
   "metadata": {},
   "outputs": [
    {
     "name": "stdout",
     "output_type": "stream",
     "text": [
      "              precision    recall  f1-score   support\n",
      "\n",
      "           0       0.89      0.84      0.86       155\n",
      "           1       0.04      0.06      0.05        17\n",
      "\n",
      "    accuracy                           0.76       172\n",
      "   macro avg       0.46      0.45      0.46       172\n",
      "weighted avg       0.81      0.76      0.78       172\n",
      "\n"
     ]
    }
   ],
   "source": [
    "print(classification_report(y_test, treepredicts))"
   ]
  },
  {
   "cell_type": "code",
   "execution_count": 41,
   "metadata": {},
   "outputs": [],
   "source": [
    "## random forest\n",
    "\n",
    "from sklearn.ensemble import RandomForestClassifier\n",
    "forestmodel = RandomForestClassifier(n_estimators=50)"
   ]
  },
  {
   "cell_type": "code",
   "execution_count": 42,
   "metadata": {},
   "outputs": [
    {
     "data": {
      "text/plain": [
       "RandomForestClassifier(n_estimators=50)"
      ]
     },
     "execution_count": 42,
     "metadata": {},
     "output_type": "execute_result"
    }
   ],
   "source": [
    "forestmodel.fit(X_train, y_train)"
   ]
  },
  {
   "cell_type": "code",
   "execution_count": 43,
   "metadata": {},
   "outputs": [],
   "source": [
    "forestpredicts = forestmodel.predict(X_test)"
   ]
  },
  {
   "cell_type": "code",
   "execution_count": 44,
   "metadata": {},
   "outputs": [
    {
     "name": "stdout",
     "output_type": "stream",
     "text": [
      "[[153   2]\n",
      " [ 17   0]]\n"
     ]
    }
   ],
   "source": [
    "print((confusion_matrix(y_test, forestpredicts)))"
   ]
  },
  {
   "cell_type": "code",
   "execution_count": 45,
   "metadata": {},
   "outputs": [
    {
     "name": "stdout",
     "output_type": "stream",
     "text": [
      "              precision    recall  f1-score   support\n",
      "\n",
      "           0       0.90      0.99      0.94       155\n",
      "           1       0.00      0.00      0.00        17\n",
      "\n",
      "    accuracy                           0.89       172\n",
      "   macro avg       0.45      0.49      0.47       172\n",
      "weighted avg       0.81      0.89      0.85       172\n",
      "\n"
     ]
    }
   ],
   "source": [
    "print((classification_report(y_test, forestpredicts)))"
   ]
  },
  {
   "cell_type": "code",
   "execution_count": 46,
   "metadata": {},
   "outputs": [],
   "source": [
    "from sklearn.svm import SVC"
   ]
  },
  {
   "cell_type": "code",
   "execution_count": 47,
   "metadata": {},
   "outputs": [],
   "source": [
    "svmmodel = SVC()"
   ]
  },
  {
   "cell_type": "code",
   "execution_count": 48,
   "metadata": {},
   "outputs": [
    {
     "data": {
      "text/plain": [
       "SVC()"
      ]
     },
     "execution_count": 48,
     "metadata": {},
     "output_type": "execute_result"
    }
   ],
   "source": [
    "svmmodel.fit(X_train, y_train)"
   ]
  },
  {
   "cell_type": "code",
   "execution_count": 49,
   "metadata": {},
   "outputs": [],
   "source": [
    "svmpredicts = svmmodel.predict(X_test)"
   ]
  },
  {
   "cell_type": "code",
   "execution_count": 50,
   "metadata": {},
   "outputs": [
    {
     "name": "stdout",
     "output_type": "stream",
     "text": [
      "[[155   0]\n",
      " [ 17   0]]\n"
     ]
    }
   ],
   "source": [
    "print(confusion_matrix(y_test, svmpredicts))"
   ]
  },
  {
   "cell_type": "code",
   "execution_count": 51,
   "metadata": {},
   "outputs": [
    {
     "name": "stdout",
     "output_type": "stream",
     "text": [
      "              precision    recall  f1-score   support\n",
      "\n",
      "           0       0.90      1.00      0.95       155\n",
      "           1       0.00      0.00      0.00        17\n",
      "\n",
      "    accuracy                           0.90       172\n",
      "   macro avg       0.45      0.50      0.47       172\n",
      "weighted avg       0.81      0.90      0.85       172\n",
      "\n"
     ]
    },
    {
     "name": "stderr",
     "output_type": "stream",
     "text": [
      "/home/ubuntu/miniconda3/lib/python3.8/site-packages/sklearn/metrics/_classification.py:1221: UndefinedMetricWarning: Precision and F-score are ill-defined and being set to 0.0 in labels with no predicted samples. Use `zero_division` parameter to control this behavior.\n",
      "  _warn_prf(average, modifier, msg_start, len(result))\n"
     ]
    }
   ],
   "source": [
    "print((classification_report(y_test, svmpredicts)))"
   ]
  },
  {
   "cell_type": "code",
   "execution_count": 52,
   "metadata": {},
   "outputs": [
    {
     "data": {
      "text/plain": [
       "array([[ 1.31562546, -0.40857399, -0.27930425, ...,  4.89259645,\n",
       "        -0.3002731 , -0.78030184],\n",
       "       [ 0.03351035, -0.88066657,  1.75927614, ..., -0.20439045,\n",
       "        -0.3002731 , -0.78030184],\n",
       "       [ 0.03351035,  0.43622326,  0.40022255, ..., -0.20439045,\n",
       "        -0.3002731 , -0.78030184],\n",
       "       ...,\n",
       "       [-0.33280825,  0.80892793, -0.27930425, ..., -0.20439045,\n",
       "        -0.3002731 , -0.78030184],\n",
       "       [ 0.58298825, -0.5079619 ,  1.07974934, ..., -0.20439045,\n",
       "        -0.3002731 ,  1.28155535],\n",
       "       [-0.88228616, -0.32160957,  2.43880293, ..., -0.20439045,\n",
       "        -0.3002731 , -0.78030184]])"
      ]
     },
     "execution_count": 52,
     "metadata": {},
     "output_type": "execute_result"
    }
   ],
   "source": [
    "import tensorflow as tf\n",
    "from tensorflow.keras.models import Sequential\n",
    "from tensorflow.keras.layers import Dense, Activation,Dropout\n",
    "X_train"
   ]
  },
  {
   "cell_type": "code",
   "execution_count": 53,
   "metadata": {},
   "outputs": [],
   "source": [
    "annmodel = Sequential()\n",
    "\n",
    "# https://stats.stackexchange.com/questions/181/how-to-choose-the-number-of-hidden-layers-and-nodes-in-a-feedforward-neural-netw\n",
    "\n",
    "\n",
    "# input layer\n",
    "annmodel.add(Dense(15,  activation='relu'))\n",
    "\n",
    "\n",
    "# hidden layer\n",
    "annmodel.add(Dense(5, activation='relu'))\n",
    "\n",
    "\n",
    "# output layer\n",
    "annmodel.add(Dense(units=1,activation='sigmoid'))\n",
    "\n",
    "# Compile model\n",
    "annmodel.compile(loss='binary_crossentropy', optimizer='adam')"
   ]
  },
  {
   "cell_type": "code",
   "execution_count": 54,
   "metadata": {},
   "outputs": [
    {
     "name": "stdout",
     "output_type": "stream",
     "text": [
      "Epoch 1/25\n",
      "13/13 [==============================] - 0s 21ms/step - loss: 0.6918 - val_loss: 0.6253\n",
      "Epoch 2/25\n",
      "13/13 [==============================] - 0s 4ms/step - loss: 0.6199 - val_loss: 0.5619\n",
      "Epoch 3/25\n",
      "13/13 [==============================] - 0s 4ms/step - loss: 0.5633 - val_loss: 0.5111\n",
      "Epoch 4/25\n",
      "13/13 [==============================] - 0s 4ms/step - loss: 0.5178 - val_loss: 0.4711\n",
      "Epoch 5/25\n",
      "13/13 [==============================] - 0s 4ms/step - loss: 0.4825 - val_loss: 0.4382\n",
      "Epoch 6/25\n",
      "13/13 [==============================] - 0s 4ms/step - loss: 0.4541 - val_loss: 0.4102\n",
      "Epoch 7/25\n",
      "13/13 [==============================] - 0s 4ms/step - loss: 0.4303 - val_loss: 0.3886\n",
      "Epoch 8/25\n",
      "13/13 [==============================] - 0s 6ms/step - loss: 0.4106 - val_loss: 0.3709\n",
      "Epoch 9/25\n",
      "13/13 [==============================] - 0s 8ms/step - loss: 0.3951 - val_loss: 0.3577\n",
      "Epoch 10/25\n",
      "13/13 [==============================] - 0s 8ms/step - loss: 0.3833 - val_loss: 0.3454\n",
      "Epoch 11/25\n",
      "13/13 [==============================] - 0s 13ms/step - loss: 0.3735 - val_loss: 0.3376\n",
      "Epoch 12/25\n",
      "13/13 [==============================] - 0s 11ms/step - loss: 0.3650 - val_loss: 0.3315\n",
      "Epoch 13/25\n",
      "13/13 [==============================] - 0s 5ms/step - loss: 0.3581 - val_loss: 0.3261\n",
      "Epoch 14/25\n",
      "13/13 [==============================] - 0s 4ms/step - loss: 0.3530 - val_loss: 0.3211\n",
      "Epoch 15/25\n",
      "13/13 [==============================] - 0s 4ms/step - loss: 0.3478 - val_loss: 0.3184\n",
      "Epoch 16/25\n",
      "13/13 [==============================] - 0s 4ms/step - loss: 0.3438 - val_loss: 0.3158\n",
      "Epoch 17/25\n",
      "13/13 [==============================] - 0s 4ms/step - loss: 0.3403 - val_loss: 0.3136\n",
      "Epoch 18/25\n",
      "13/13 [==============================] - 0s 5ms/step - loss: 0.3369 - val_loss: 0.3123\n",
      "Epoch 19/25\n",
      "13/13 [==============================] - 0s 7ms/step - loss: 0.3341 - val_loss: 0.3107\n",
      "Epoch 20/25\n",
      "13/13 [==============================] - 0s 6ms/step - loss: 0.3316 - val_loss: 0.3101\n",
      "Epoch 21/25\n",
      "13/13 [==============================] - 0s 5ms/step - loss: 0.3293 - val_loss: 0.3091\n",
      "Epoch 22/25\n",
      "13/13 [==============================] - 0s 4ms/step - loss: 0.3274 - val_loss: 0.3086\n",
      "Epoch 23/25\n",
      "13/13 [==============================] - 0s 4ms/step - loss: 0.3252 - val_loss: 0.3084\n",
      "Epoch 24/25\n",
      "13/13 [==============================] - 0s 4ms/step - loss: 0.3230 - val_loss: 0.3086\n",
      "Epoch 25/25\n",
      "13/13 [==============================] - 0s 4ms/step - loss: 0.3213 - val_loss: 0.3087\n"
     ]
    },
    {
     "data": {
      "text/plain": [
       "<tensorflow.python.keras.callbacks.History at 0x7f5b504773a0>"
      ]
     },
     "execution_count": 54,
     "metadata": {},
     "output_type": "execute_result"
    }
   ],
   "source": [
    "annmodel.fit(x=X_train, \n",
    "          y=y_train, \n",
    "          epochs=25,\n",
    "          validation_data=(X_test, y_test) \n",
    "          )"
   ]
  },
  {
   "cell_type": "code",
   "execution_count": 55,
   "metadata": {},
   "outputs": [
    {
     "name": "stdout",
     "output_type": "stream",
     "text": [
      "WARNING:tensorflow:From <ipython-input-55-b3d3e546df17>:1: Sequential.predict_classes (from tensorflow.python.keras.engine.sequential) is deprecated and will be removed after 2021-01-01.\n",
      "Instructions for updating:\n",
      "Please use instead:* `np.argmax(model.predict(x), axis=-1)`,   if your model does multi-class classification   (e.g. if it uses a `softmax` last-layer activation).* `(model.predict(x) > 0.5).astype(\"int32\")`,   if your model does binary classification   (e.g. if it uses a `sigmoid` last-layer activation).\n"
     ]
    }
   ],
   "source": [
    "annpredicts = annmodel.predict_classes(X_test)"
   ]
  },
  {
   "cell_type": "code",
   "execution_count": 56,
   "metadata": {},
   "outputs": [
    {
     "name": "stdout",
     "output_type": "stream",
     "text": [
      "[[155   0]\n",
      " [ 17   0]]\n"
     ]
    }
   ],
   "source": [
    "print(confusion_matrix(y_test, annpredicts))"
   ]
  },
  {
   "cell_type": "code",
   "execution_count": 57,
   "metadata": {},
   "outputs": [
    {
     "name": "stdout",
     "output_type": "stream",
     "text": [
      "              precision    recall  f1-score   support\n",
      "\n",
      "           0       0.90      1.00      0.95       155\n",
      "           1       0.00      0.00      0.00        17\n",
      "\n",
      "    accuracy                           0.90       172\n",
      "   macro avg       0.45      0.50      0.47       172\n",
      "weighted avg       0.81      0.90      0.85       172\n",
      "\n"
     ]
    },
    {
     "name": "stderr",
     "output_type": "stream",
     "text": [
      "/home/ubuntu/miniconda3/lib/python3.8/site-packages/sklearn/metrics/_classification.py:1221: UndefinedMetricWarning: Precision and F-score are ill-defined and being set to 0.0 in labels with no predicted samples. Use `zero_division` parameter to control this behavior.\n",
      "  _warn_prf(average, modifier, msg_start, len(result))\n"
     ]
    }
   ],
   "source": [
    "print(classification_report(y_test, annpredicts ))"
   ]
  },
  {
   "cell_type": "code",
   "execution_count": 58,
   "metadata": {},
   "outputs": [],
   "source": [
    "from xgboost import XGBClassifier"
   ]
  },
  {
   "cell_type": "code",
   "execution_count": 79,
   "metadata": {},
   "outputs": [],
   "source": [
    "xgbmodel = XGBClassifier(base_score = 0.8)"
   ]
  },
  {
   "cell_type": "code",
   "execution_count": 80,
   "metadata": {},
   "outputs": [
    {
     "data": {
      "text/plain": [
       "XGBClassifier(base_score=0.8, booster='gbtree', colsample_bylevel=1,\n",
       "              colsample_bynode=1, colsample_bytree=1, gamma=0, gpu_id=-1,\n",
       "              importance_type='gain', interaction_constraints='',\n",
       "              learning_rate=0.300000012, max_delta_step=0, max_depth=6,\n",
       "              min_child_weight=1, missing=nan, monotone_constraints='()',\n",
       "              n_estimators=100, n_jobs=0, num_parallel_tree=1, random_state=0,\n",
       "              reg_alpha=0, reg_lambda=1, scale_pos_weight=1, subsample=1,\n",
       "              tree_method='exact', validate_parameters=1, verbosity=None)"
      ]
     },
     "execution_count": 80,
     "metadata": {},
     "output_type": "execute_result"
    }
   ],
   "source": [
    "xgbmodel.fit(X_train, y_train)"
   ]
  },
  {
   "cell_type": "code",
   "execution_count": 81,
   "metadata": {},
   "outputs": [],
   "source": [
    "xgbpredicts = xgbmodel.predict(X_test)"
   ]
  },
  {
   "cell_type": "code",
   "execution_count": 82,
   "metadata": {},
   "outputs": [
    {
     "name": "stdout",
     "output_type": "stream",
     "text": [
      "[[147   8]\n",
      " [ 15   2]]\n"
     ]
    }
   ],
   "source": [
    "print(confusion_matrix(y_test, xgbpredicts))"
   ]
  },
  {
   "cell_type": "code",
   "execution_count": 83,
   "metadata": {},
   "outputs": [
    {
     "name": "stdout",
     "output_type": "stream",
     "text": [
      "              precision    recall  f1-score   support\n",
      "\n",
      "           0       0.91      0.95      0.93       155\n",
      "           1       0.20      0.12      0.15        17\n",
      "\n",
      "    accuracy                           0.87       172\n",
      "   macro avg       0.55      0.53      0.54       172\n",
      "weighted avg       0.84      0.87      0.85       172\n",
      "\n"
     ]
    }
   ],
   "source": [
    "print(classification_report(y_test, xgbpredicts))"
   ]
  },
  {
   "cell_type": "code",
   "execution_count": null,
   "metadata": {},
   "outputs": [],
   "source": []
  },
  {
   "cell_type": "code",
   "execution_count": null,
   "metadata": {},
   "outputs": [],
   "source": []
  }
 ],
 "metadata": {
  "kernelspec": {
   "display_name": "Python 3",
   "language": "python",
   "name": "python3"
  },
  "language_info": {
   "codemirror_mode": {
    "name": "ipython",
    "version": 3
   },
   "file_extension": ".py",
   "mimetype": "text/x-python",
   "name": "python",
   "nbconvert_exporter": "python",
   "pygments_lexer": "ipython3",
   "version": "3.8.3"
  }
 },
 "nbformat": 4,
 "nbformat_minor": 4
}
